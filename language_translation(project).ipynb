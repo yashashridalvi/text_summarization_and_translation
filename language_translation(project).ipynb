{
  "cells": [
    {
      "cell_type": "markdown",
      "metadata": {
        "id": "view-in-github",
        "colab_type": "text"
      },
      "source": [
        "<a href=\"https://colab.research.google.com/github/yashashridalvi/text_summarization_and_translation/blob/main/language_translation(project).ipynb\" target=\"_parent\"><img src=\"https://colab.research.google.com/assets/colab-badge.svg\" alt=\"Open In Colab\"/></a>"
      ]
    },
    {
      "cell_type": "markdown",
      "metadata": {
        "id": "uaXrVV8LXHhX"
      },
      "source": [
        "#**Text summarizer, language detection , language translation and also speak (or read) news text file**\n",
        "\n"
      ]
    },
    {
      "cell_type": "markdown",
      "source": [
        "News Article Summarization: The process of transforming long news articles into brief, comprehensible summaries. It helps readers quickly grasp the key information without reading the entire article."
      ],
      "metadata": {
        "id": "SKUsd_PBXcpL"
      }
    },
    {
      "cell_type": "code",
      "execution_count": null,
      "metadata": {
        "id": "Wmnngr4r8zuK"
      },
      "outputs": [],
      "source": [
        "#Firstly import python necessary library\n",
        "import pandas as pd\n",
        "import numpy as np\n",
        "from sklearn.model_selection import train_test_split\n",
        "from sklearn.metrics import classification_report\n",
        "from wordcloud import WordCloud\n",
        "import seaborn as sns\n",
        "import matplotlib.pyplot as plt"
      ]
    },
    {
      "cell_type": "code",
      "execution_count": null,
      "metadata": {
        "id": "gMXPDRhG9C-c"
      },
      "outputs": [],
      "source": [
        "# Text classification in deep learning\n",
        "# first import some libraries\n",
        "from tensorflow.keras.models import Sequential\n",
        "from tensorflow.keras.layers import Embedding,Dense,Flatten,SimpleRNN, GRU"
      ]
    },
    {
      "cell_type": "code",
      "execution_count": null,
      "metadata": {
        "id": "2pzrBRpG9mC9"
      },
      "outputs": [],
      "source": [
        "#Preprocessing\n",
        "from tensorflow.keras.preprocessing.text import Tokenizer\n",
        "from tensorflow.keras.preprocessing import sequence"
      ]
    },
    {
      "cell_type": "markdown",
      "source": [
        "Beautiful Soup simplifies web scraping by parsing HTML and XML, making it easy to extract and manipulate data from web pages in Python programs."
      ],
      "metadata": {
        "id": "j-875TCtYH53"
      }
    },
    {
      "cell_type": "code",
      "execution_count": null,
      "metadata": {
        "id": "JyhNag9HuJbn"
      },
      "outputs": [],
      "source": [
        "import requests\n",
        "from bs4 import BeautifulSoup"
      ]
    },
    {
      "cell_type": "code",
      "execution_count": null,
      "metadata": {
        "id": "5cnjccsSuEpJ"
      },
      "outputs": [],
      "source": [
        "# Retrieve page text\n",
        "url = 'https://www.npr.org/2019/07/10/740387601/university-of-texas-austin-promises-free-tuition-for-low-income-students-in-2020'\n",
        "news_page = requests.get(url).text"
      ]
    },
    {
      "cell_type": "code",
      "execution_count": null,
      "metadata": {
        "id": "j_j0aEqwuWoq"
      },
      "outputs": [],
      "source": [
        "# Turn page into BeautifulSoup object to access HTML tags\n",
        "soup = BeautifulSoup(news_page)"
      ]
    },
    {
      "cell_type": "code",
      "execution_count": null,
      "metadata": {
        "colab": {
          "base_uri": "https://localhost:8080/"
        },
        "id": "oevRUsG1ukZd",
        "outputId": "1e8014f5-3f59-4b0e-a999-7c661253c5a9"
      },
      "outputs": [
        {
          "name": "stdout",
          "output_type": "stream",
          "text": [
            "University of Texas-Austin Promises Free Tuition For Low-Income Students In 2020\n"
          ]
        }
      ],
      "source": [
        "\n",
        "# Get headline\n",
        "headline = soup.find('h1').get_text()\n",
        "print(headline)"
      ]
    },
    {
      "cell_type": "markdown",
      "metadata": {
        "id": "1rOnG1zD3Sgc"
      },
      "source": [
        "***The main text of the article is surrounded by the \"p\" tag. This time we’ll have to find all of the \"p\" tags contained on the page since the paragraphs of the article are each contained in a \"p\" tag.***\n"
      ]
    },
    {
      "cell_type": "code",
      "execution_count": null,
      "metadata": {
        "colab": {
          "base_uri": "https://localhost:8080/"
        },
        "id": "VKUDtp5EvB8P",
        "outputId": "9054ef46-585b-47bb-e332-d6abc1e619f6"
      },
      "outputs": [
        {
          "data": {
            "text/plain": [
              "['From',\n",
              " 'By',\n",
              " 'Vanessa Romo',\n",
              " ',',\n",
              " 'Claire McInerny',\n",
              " 'The University of Texas-Austin announced Tuesday it is offering full tuition scholarships to in-state undergraduates whose families make $65,000 or less a year.\\n                \\n                    \\n                    Jon Herskovitz/Reuters\\n                    \\n                \\nhide caption',\n",
              " \"Four year colleges and universities have difficulty recruiting talented students from the lower end of the economic spectrum who can't afford to attend such institutions without taking on massive debt. To remedy that — at least in part — the University of Texas-Austin announced it is offering full tuition scholarships to in-state undergraduates whose families make $65,000 or less per year.\",\n",
              " \"The University of Texas System Board of Regents voted unanimously on Tuesday to establish a $160 million endowment, drawing from the state's Permanent University Fund to begin the program in the fall of 2020.\",\n",
              " '\"Recognizing both the need for improved access to higher education and the high value of a UT Austin degree, we are dedicating a distribution from the Permanent University Fund to establish an endowment that will directly benefit students and make their degrees more affordable,\" Chairman of the Board of Regents Kevin Eltife said after the vote.',\n",
              " '\"This will benefit students of our great state for years to come,\" he added.',\n",
              " 'The endowment — which includes money from oil and gas royalties earned on state-owned land in West Texas — more than doubles an existing program offering free tuition to students whose families make less than $30,000. It also expands financial assistance to middle class students whose families earn up to $125,000 a year, compared to the current $100,000.',\n",
              " \"UT-Austin is among the Texas system's more affordable universities; tuition and fees cost about $10,500. The endowment will foot the bill for those charges but not additional living expenses, including room and board, which can add another $17,000 in annual fees.\",\n",
              " 'Officials expect about 8,600 students — nearly a quarter of undergraduates, including those already enrolled — will benefit from the full tuition program and another 5,700 will gain access to additional financial support, the release said. Transfer students will also be eligible, but graduate students will not.',\n",
              " '\"There is no greater engine of social and economic mobility than a college degree, and this initiative ensures that more Texans will benefit from a high-quality UT Austin education,\" University Chancellor James Milliken said in a statement.',\n",
              " 'Cindy Muñoz, an incoming freshman from Houston, was on campus Wednesday for orientation. She was thrilled to learn of the endowment. Her mother is a single parent who has been working as a housekeeper and doing other odd jobs to make ends meet.',\n",
              " 'Until Tuesday Muñoz planned to pay for most of her college with loans. \"I knew I was going to go into student debt,\" she said, adding that she was willing to take on the loans to go to her dream school.',\n",
              " '\"I had that already in my head because my sister went to college and she had to take out loans, and she\\'s still dealing with loans today and she\\'s 38 years old,\" Muñoz said.',\n",
              " \"Once it goes into effect, the new financial aid program will apply to Muñoz and cover all of her tuition. She said she'll only need loans to pay for some of her living expenses.\",\n",
              " '\"It kind of makes me feel like I chose the right school,\" Munoz said. \"Because a school that is willing to see past your socio-economic status, look at you as a student, a person who just wants to advance their education and pursue a career, I think they look past monetary issues and they\\'re like, \\'You want to do this? Then we\\'re going to help you out.\\' \"',\n",
              " 'The school noted it landed on the $65,000 cap because the average median household income in Texas in 2017 was $59,206.',\n",
              " 'As tuition rates continue to climb and financial aid has continued to lag behind, a growing number of public and private four-year institutions are offering free tuition to students below a certain income.',\n",
              " \"In 2008, Texas A&M began offering free tuition to students whose families' income was under $60,000. Michigan established the Kalamazoo Promise, which covers four years of tuition at any public college in the state as well as 15 private colleges. Louisiana offers a more restrictive program that comes with certain caveats, including a minimum aptitude test score.\",\n",
              " 'Last year, New York launched The Excelsior Scholarship, allowing middle-class families and individuals making up to $125,000 a year to qualify for tuition-free enrollment at all CUNY and SUNY two and four-year colleges.',\n",
              " 'But some states are finding it difficult to sustain such programs. Oregon launched the Oregon Promise in 2016 but the program there had to be scaled back after a budget shortage, Pew reported.',\n",
              " \"Editor's note: NPR member station KUT's broadcast license is owned by the University of Texas. Its newsroom operates independently.\",\n",
              " 'Sponsor Message',\n",
              " 'Become an NPR sponsor']"
            ]
          },
          "execution_count": 13,
          "metadata": {},
          "output_type": "execute_result"
        }
      ],
      "source": [
        "# Get text from all <p> tags.\n",
        "p_tags = soup.find_all('p')\n",
        "# Get the text from each of the \"p\" tags and strip surrounding whitespace.\n",
        "p_tags_text = [tag.get_text().strip() for tag in p_tags]\n",
        "p_tags_text"
      ]
    },
    {
      "cell_type": "code",
      "execution_count": null,
      "metadata": {
        "colab": {
          "base_uri": "https://localhost:8080/"
        },
        "id": "W-d6vssQvOkB",
        "outputId": "8ed23960-36c3-4e41-f299-cb752a7b46b9"
      },
      "outputs": [
        {
          "data": {
            "text/plain": [
              "[\"Four year colleges and universities have difficulty recruiting talented students from the lower end of the economic spectrum who can't afford to attend such institutions without taking on massive debt. To remedy that — at least in part — the University of Texas-Austin announced it is offering full tuition scholarships to in-state undergraduates whose families make $65,000 or less per year.\",\n",
              " \"The University of Texas System Board of Regents voted unanimously on Tuesday to establish a $160 million endowment, drawing from the state's Permanent University Fund to begin the program in the fall of 2020.\",\n",
              " '\"Recognizing both the need for improved access to higher education and the high value of a UT Austin degree, we are dedicating a distribution from the Permanent University Fund to establish an endowment that will directly benefit students and make their degrees more affordable,\" Chairman of the Board of Regents Kevin Eltife said after the vote.',\n",
              " '\"This will benefit students of our great state for years to come,\" he added.',\n",
              " 'The endowment — which includes money from oil and gas royalties earned on state-owned land in West Texas — more than doubles an existing program offering free tuition to students whose families make less than $30,000. It also expands financial assistance to middle class students whose families earn up to $125,000 a year, compared to the current $100,000.',\n",
              " \"UT-Austin is among the Texas system's more affordable universities; tuition and fees cost about $10,500. The endowment will foot the bill for those charges but not additional living expenses, including room and board, which can add another $17,000 in annual fees.\",\n",
              " 'Officials expect about 8,600 students — nearly a quarter of undergraduates, including those already enrolled — will benefit from the full tuition program and another 5,700 will gain access to additional financial support, the release said. Transfer students will also be eligible, but graduate students will not.',\n",
              " '\"There is no greater engine of social and economic mobility than a college degree, and this initiative ensures that more Texans will benefit from a high-quality UT Austin education,\" University Chancellor James Milliken said in a statement.',\n",
              " 'Cindy Muñoz, an incoming freshman from Houston, was on campus Wednesday for orientation. She was thrilled to learn of the endowment. Her mother is a single parent who has been working as a housekeeper and doing other odd jobs to make ends meet.',\n",
              " 'Until Tuesday Muñoz planned to pay for most of her college with loans. \"I knew I was going to go into student debt,\" she said, adding that she was willing to take on the loans to go to her dream school.',\n",
              " '\"I had that already in my head because my sister went to college and she had to take out loans, and she\\'s still dealing with loans today and she\\'s 38 years old,\" Muñoz said.',\n",
              " \"Once it goes into effect, the new financial aid program will apply to Muñoz and cover all of her tuition. She said she'll only need loans to pay for some of her living expenses.\",\n",
              " '\"It kind of makes me feel like I chose the right school,\" Munoz said. \"Because a school that is willing to see past your socio-economic status, look at you as a student, a person who just wants to advance their education and pursue a career, I think they look past monetary issues and they\\'re like, \\'You want to do this? Then we\\'re going to help you out.\\' \"',\n",
              " 'The school noted it landed on the $65,000 cap because the average median household income in Texas in 2017 was $59,206.',\n",
              " 'As tuition rates continue to climb and financial aid has continued to lag behind, a growing number of public and private four-year institutions are offering free tuition to students below a certain income.',\n",
              " \"In 2008, Texas A&M began offering free tuition to students whose families' income was under $60,000. Michigan established the Kalamazoo Promise, which covers four years of tuition at any public college in the state as well as 15 private colleges. Louisiana offers a more restrictive program that comes with certain caveats, including a minimum aptitude test score.\",\n",
              " 'Last year, New York launched The Excelsior Scholarship, allowing middle-class families and individuals making up to $125,000 a year to qualify for tuition-free enrollment at all CUNY and SUNY two and four-year colleges.',\n",
              " 'But some states are finding it difficult to sustain such programs. Oregon launched the Oregon Promise in 2016 but the program there had to be scaled back after a budget shortage, Pew reported.',\n",
              " \"Editor's note: NPR member station KUT's broadcast license is owned by the University of Texas. Its newsroom operates independently.\"]"
            ]
          },
          "execution_count": 14,
          "metadata": {},
          "output_type": "execute_result"
        }
      ],
      "source": [
        "# Filter out sentences that contain newline characters '\\n' or don't contain periods.\n",
        "sentence_list = [sentence for sentence in p_tags_text if not '\\n' in sentence]\n",
        "sentence_list = [sentence for sentence in sentence_list if '.' in sentence]\n",
        "sentence_list\n"
      ]
    },
    {
      "cell_type": "code",
      "execution_count": null,
      "metadata": {
        "id": "rf8SokM1xWLO"
      },
      "outputs": [],
      "source": [
        "# Combine list items into string.\n",
        "article = ' '.join(sentence_list)"
      ]
    },
    {
      "cell_type": "markdown",
      "metadata": {
        "id": "Yud3ISwwYjsp"
      },
      "source": [
        "##**Now we Translate the news languages**"
      ]
    },
    {
      "cell_type": "code",
      "execution_count": null,
      "metadata": {
        "colab": {
          "base_uri": "https://localhost:8080/"
        },
        "id": "eg7iIxl8IKmJ",
        "outputId": "26a35da1-3c4d-4d4f-f1c5-b07f1a46399f"
      },
      "outputs": [
        {
          "name": "stdout",
          "output_type": "stream",
          "text": [
            "Requirement already satisfied: langdetect in /usr/local/lib/python3.10/dist-packages (1.0.9)\n",
            "Requirement already satisfied: six in /usr/local/lib/python3.10/dist-packages (from langdetect) (1.16.0)\n"
          ]
        }
      ],
      "source": [
        "#Langdetect is use to detect the language of document text\n",
        "!pip install langdetect"
      ]
    },
    {
      "cell_type": "code",
      "execution_count": null,
      "metadata": {
        "colab": {
          "base_uri": "https://localhost:8080/"
        },
        "id": "xzENWCtmGhc7",
        "outputId": "a9ea3c18-551d-4b7e-dc05-61b56b955a05"
      },
      "outputs": [
        {
          "name": "stdout",
          "output_type": "stream",
          "text": [
            "[en:0.9999987474672236]\n"
          ]
        }
      ],
      "source": [
        "from langdetect import detect_langs\n",
        "sentence=\"Good morning yashashri\" # sentence is in english language --> output will be en\n",
        "print(detect_langs(sentence))"
      ]
    },
    {
      "cell_type": "code",
      "execution_count": null,
      "metadata": {
        "id": "3LDlxMuOM7V_"
      },
      "outputs": [],
      "source": [
        "#To translate the languages from one language to another we use googletrans\n",
        "#!pip install googletrans==4.0.0-rc1\n"
      ]
    },
    {
      "cell_type": "code",
      "execution_count": null,
      "metadata": {
        "id": "8yzbj8AKHE7U"
      },
      "outputs": [],
      "source": [
        "#this is the google translate api\n",
        "#!pip install googletrans"
      ]
    },
    {
      "cell_type": "code",
      "execution_count": null,
      "metadata": {
        "colab": {
          "base_uri": "https://localhost:8080/"
        },
        "id": "VfjUu91JHJ_9",
        "outputId": "af938a6b-9cfe-4e7a-bc71-0dbddf8ba0cf"
      },
      "outputs": [
        {
          "name": "stdout",
          "output_type": "stream",
          "text": [
            "{'af': 'afrikaans', 'sq': 'albanian', 'am': 'amharic', 'ar': 'arabic', 'hy': 'armenian', 'az': 'azerbaijani', 'eu': 'basque', 'be': 'belarusian', 'bn': 'bengali', 'bs': 'bosnian', 'bg': 'bulgarian', 'ca': 'catalan', 'ceb': 'cebuano', 'ny': 'chichewa', 'zh-cn': 'chinese (simplified)', 'zh-tw': 'chinese (traditional)', 'co': 'corsican', 'hr': 'croatian', 'cs': 'czech', 'da': 'danish', 'nl': 'dutch', 'en': 'english', 'eo': 'esperanto', 'et': 'estonian', 'tl': 'filipino', 'fi': 'finnish', 'fr': 'french', 'fy': 'frisian', 'gl': 'galician', 'ka': 'georgian', 'de': 'german', 'el': 'greek', 'gu': 'gujarati', 'ht': 'haitian creole', 'ha': 'hausa', 'haw': 'hawaiian', 'iw': 'hebrew', 'he': 'hebrew', 'hi': 'hindi', 'hmn': 'hmong', 'hu': 'hungarian', 'is': 'icelandic', 'ig': 'igbo', 'id': 'indonesian', 'ga': 'irish', 'it': 'italian', 'ja': 'japanese', 'jw': 'javanese', 'kn': 'kannada', 'kk': 'kazakh', 'km': 'khmer', 'ko': 'korean', 'ku': 'kurdish (kurmanji)', 'ky': 'kyrgyz', 'lo': 'lao', 'la': 'latin', 'lv': 'latvian', 'lt': 'lithuanian', 'lb': 'luxembourgish', 'mk': 'macedonian', 'mg': 'malagasy', 'ms': 'malay', 'ml': 'malayalam', 'mt': 'maltese', 'mi': 'maori', 'mr': 'marathi', 'mn': 'mongolian', 'my': 'myanmar (burmese)', 'ne': 'nepali', 'no': 'norwegian', 'or': 'odia', 'ps': 'pashto', 'fa': 'persian', 'pl': 'polish', 'pt': 'portuguese', 'pa': 'punjabi', 'ro': 'romanian', 'ru': 'russian', 'sm': 'samoan', 'gd': 'scots gaelic', 'sr': 'serbian', 'st': 'sesotho', 'sn': 'shona', 'sd': 'sindhi', 'si': 'sinhala', 'sk': 'slovak', 'sl': 'slovenian', 'so': 'somali', 'es': 'spanish', 'su': 'sundanese', 'sw': 'swahili', 'sv': 'swedish', 'tg': 'tajik', 'ta': 'tamil', 'te': 'telugu', 'th': 'thai', 'tr': 'turkish', 'uk': 'ukrainian', 'ur': 'urdu', 'ug': 'uyghur', 'uz': 'uzbek', 'vi': 'vietnamese', 'cy': 'welsh', 'xh': 'xhosa', 'yi': 'yiddish', 'yo': 'yoruba', 'zu': 'zulu'}\n"
          ]
        }
      ],
      "source": [
        "#Here is the list of languages and the keys that are use to call languages\n",
        "#example:- for hindi language--> we have to use'hi'\n",
        "#       :- for english language --> we have to use 'en'\n",
        "import googletrans\n",
        "print(googletrans.LANGUAGES)"
      ]
    },
    {
      "cell_type": "code",
      "execution_count": null,
      "metadata": {
        "id": "AYgGdEu4H2Q-"
      },
      "outputs": [],
      "source": [
        "from googletrans import Translator"
      ]
    },
    {
      "cell_type": "code",
      "execution_count": null,
      "metadata": {
        "id": "Syz1O_jQIol0"
      },
      "outputs": [],
      "source": [
        "translator = Translator()\n",
        "#sentence =\"hello good morning yashu\"\n",
        "#translate_to_hindi = translator.translate(sentence,dest ='hi')\n",
        "#print(translate_to_hindi)"
      ]
    },
    {
      "cell_type": "code",
      "execution_count": null,
      "metadata": {
        "colab": {
          "base_uri": "https://localhost:8080/"
        },
        "id": "-DUPlQ-V1GHM",
        "outputId": "151480e6-d880-46b7-a6ec-2bbf39f59f22"
      },
      "outputs": [
        {
          "name": "stdout",
          "output_type": "stream",
          "text": [
            "Enter the target language (e.g., 'es' for Spanish): mr\n",
            "Original Sentence: Four year colleges and universities have difficulty recruiting talented students from the lower end of the economic spectrum who can't afford to attend such institutions without taking on massive debt. To remedy that — at least in part — the University of Texas-Austin announced it is offering full tuition scholarships to in-state undergraduates whose families make $65,000 or less per year. The University of Texas System Board of Regents voted unanimously on Tuesday to establish a $160 million endowment, drawing from the state's Permanent University Fund to begin the program in the fall of 2020. \"Recognizing both the need for improved access to higher education and the high value of a UT Austin degree, we are dedicating a distribution from the Permanent University Fund to establish an endowment that will directly benefit students and make their degrees more affordable,\" Chairman of the Board of Regents Kevin Eltife said after the vote. \"This will benefit students of our great state for years to come,\" he added. The endowment — which includes money from oil and gas royalties earned on state-owned land in West Texas — more than doubles an existing program offering free tuition to students whose families make less than $30,000. It also expands financial assistance to middle class students whose families earn up to $125,000 a year, compared to the current $100,000. UT-Austin is among the Texas system's more affordable universities; tuition and fees cost about $10,500. The endowment will foot the bill for those charges but not additional living expenses, including room and board, which can add another $17,000 in annual fees. Officials expect about 8,600 students — nearly a quarter of undergraduates, including those already enrolled — will benefit from the full tuition program and another 5,700 will gain access to additional financial support, the release said. Transfer students will also be eligible, but graduate students will not. \"There is no greater engine of social and economic mobility than a college degree, and this initiative ensures that more Texans will benefit from a high-quality UT Austin education,\" University Chancellor James Milliken said in a statement. Cindy Muñoz, an incoming freshman from Houston, was on campus Wednesday for orientation. She was thrilled to learn of the endowment. Her mother is a single parent who has been working as a housekeeper and doing other odd jobs to make ends meet. Until Tuesday Muñoz planned to pay for most of her college with loans. \"I knew I was going to go into student debt,\" she said, adding that she was willing to take on the loans to go to her dream school. \"I had that already in my head because my sister went to college and she had to take out loans, and she's still dealing with loans today and she's 38 years old,\" Muñoz said. Once it goes into effect, the new financial aid program will apply to Muñoz and cover all of her tuition. She said she'll only need loans to pay for some of her living expenses. \"It kind of makes me feel like I chose the right school,\" Munoz said. \"Because a school that is willing to see past your socio-economic status, look at you as a student, a person who just wants to advance their education and pursue a career, I think they look past monetary issues and they're like, 'You want to do this? Then we're going to help you out.' \" The school noted it landed on the $65,000 cap because the average median household income in Texas in 2017 was $59,206. As tuition rates continue to climb and financial aid has continued to lag behind, a growing number of public and private four-year institutions are offering free tuition to students below a certain income. In 2008, Texas A&M began offering free tuition to students whose families' income was under $60,000. Michigan established the Kalamazoo Promise, which covers four years of tuition at any public college in the state as well as 15 private colleges. Louisiana offers a more restrictive program that comes with certain caveats, including a minimum aptitude test score. Last year, New York launched The Excelsior Scholarship, allowing middle-class families and individuals making up to $125,000 a year to qualify for tuition-free enrollment at all CUNY and SUNY two and four-year colleges. But some states are finding it difficult to sustain such programs. Oregon launched the Oregon Promise in 2016 but the program there had to be scaled back after a budget shortage, Pew reported. Editor's note: NPR member station KUT's broadcast license is owned by the University of Texas. Its newsroom operates independently.\n",
            "Translated Sentence: चार वर्षांच्या महाविद्यालये आणि विद्यापीठांना आर्थिक स्पेक्ट्रमच्या खालच्या टोकापासून प्रतिभावान विद्यार्थ्यांची भरती करण्यात अडचण आहे ज्यांना मोठ्या प्रमाणात कर्ज न घेता अशा संस्थांना उपस्थित राहणे परवडत नाही.यावर उपाय म्हणून-कमीतकमी काही प्रमाणात-टेक्सास-ऑस्टिन विद्यापीठाने घोषित केले की ते राज्यातील पदवीधरांना संपूर्ण शिकवणी शिष्यवृत्ती देत आहेत ज्यांची कुटुंबे दर वर्षी, 000 65,000 किंवा त्यापेक्षा कमी करतात.२०२० च्या शरद .तूतील कार्यक्रम सुरू करण्यासाठी राज्याच्या कायम विद्यापीठाच्या निधीतून १ $ ० दशलक्ष डॉलर्सची देणगी स्थापित करण्यासाठी टेक्सास सिस्टम बोर्ड ऑफ रीजेन्ट्सने मंगळवारी एकमताने मतदान केले.यूटी ऑस्टिन पदवीचे मूल्य, आम्ही कायमस्वरुपी विद्यापीठाच्या निधीतून वितरण समर्पित करीत आहोत ज्यामुळे विद्यार्थ्यांना थेट फायदा होईल आणि त्यांचे पदवी अधिक परवडतील, ”असे मतदानानंतर सांगितले.ते म्हणाले, “यामुळे आमच्या महान राज्यातील विद्यार्थ्यांना पुढील वर्षानुवर्षे फायदा होईल,” ते पुढे म्हणाले.एन्डॉवमेंट-ज्यात वेस्ट टेक्सासमधील राज्य-मालकीच्या जमिनीवर कमावलेल्या तेल आणि गॅस रॉयल्टीच्या पैशांचा समावेश आहे-ज्यांच्या कुटुंबियांना $ 30,000 पेक्षा कमी पैसे कमावतात अशा विद्यार्थ्यांना विनामूल्य शिकवणी देणारी विद्यमान कार्यक्रम दुप्पट आहे.हे मध्यमवर्गीय विद्यार्थ्यांसाठी आर्थिक सहाय्य देखील वाढवते ज्यांची कुटुंबे सध्याच्या १०,००,००० डॉलर्सच्या तुलनेत वर्षाकाठी १२,००,००० डॉलर्सपर्यंत कमावतात.टेक्सास सिस्टमच्या अधिक परवडणार्‍या विद्यापीठांमध्ये यूटी-ऑस्टिन आहे;शिकवणी आणि फी किंमत सुमारे, 10,500 आहे.या शुल्कासाठी या शुल्काचे बिल दिले जाईल परंतु खोली आणि बोर्डसह अतिरिक्त राहणीमान खर्च होणार नाही, जे वार्षिक फीमध्ये आणखी 17,000 डॉलर्स जोडू शकेल.अधिका officials ्यांची अपेक्षा आहे की सुमारे 8,600 विद्यार्थ्यांची अपेक्षा आहे - जवळजवळ एक चतुर्थांश पदवीधर, ज्यात आधीपासूनच नोंदणीकृत आहे - संपूर्ण शिकवणी कार्यक्रमाचा फायदा होईल आणि आणखी 5,700 अतिरिक्त आर्थिक मदतीसाठी प्रवेश करेल, असे या प्रसिद्धीपत्रकात म्हटले आहे.हस्तांतरण विद्यार्थी देखील पात्र असतील, परंतु पदवीधर विद्यार्थी होणार नाहीत.\"महाविद्यालयीन पदवीपेक्षा सामाजिक आणि आर्थिक हालचालीचे कोणतेही मोठे इंजिन नाही आणि या उपक्रमामुळे हे सुनिश्चित होते की अधिक टेक्सासना उच्च-गुणवत्तेच्या यूटी ऑस्टिन शिक्षणाचा फायदा होईल,\" असे विद्यापीठाचे चांसलर जेम्स मिलिकेन यांनी एका निवेदनात म्हटले आहे.ह्यूस्टनचा येणारा नवीन माणूस सिंडी मुओझ बुधवारी अभिमुखतेसाठी कॅम्पसमध्ये होता.तिला देणगीबद्दल जाणून घेण्यास आनंद झाला.तिची आई एकल पालक आहे जी घरकाम करणारी व्यक्ती म्हणून काम करत आहे आणि समाप्त करण्यासाठी इतर विचित्र नोकरी करत आहे.मंगळवारपर्यंत मुओझने तिच्या बहुतेक महाविद्यालयासाठी कर्जासह पैसे देण्याची योजना आखली.\"मला माहित आहे की मी विद्यार्थ्यांच्या कर्जात जाणार आहे,\" ती म्हणाली, ती तिच्या स्वप्नातील शाळेत जाण्यासाठी कर्ज घेण्यास तयार आहे.\"माझ्याकडे हे आधीच माझ्या डोक्यात होते कारण माझी बहीण महाविद्यालयात गेली होती आणि तिला कर्ज घ्यावे लागले आणि ती अजूनही कर्जात काम करत आहे आणि ती 38 वर्षांची आहे,\" मुओझ म्हणाले.एकदा ते अंमलात आल्यावर, नवीन आर्थिक सहाय्य कार्यक्रम मुओझला लागू होईल आणि तिच्या सर्व शिकवणीचा समावेश करेल.ती म्हणाली की तिच्या राहण्याच्या काही खर्चासाठी तिला फक्त कर्जाची आवश्यकता आहे.\"या प्रकारामुळे मला असे वाटते की मी योग्य शाळा निवडली आहे,\" मुनोज म्हणाले.\"कारण एखादी शाळा जी आपल्या सामाजिक-आर्थिक स्थितीकडे पाहण्यास तयार आहे, आपल्याकडे एक विद्यार्थी म्हणून आपल्याकडे पहा, ज्याला फक्त आपले शिक्षण वाढवायचे आहे आणि करिअर करण्याची इच्छा आहे, मला वाटते की ते पूर्वीचे आर्थिक मुद्दे पाहतात आणि ते सारखे आहेत,'तुम्हाला हे करायचे आहे? मग आम्ही तुम्हाला मदत करणार आहोत.'\"शाळेने हे नमूद केले की ते $ 65,000 च्या कॅपवर आले आहे कारण 2017 मध्ये टेक्सासमधील सरासरी मध्यम घरगुती उत्पन्न $ 59,206 होते.शिकवणीचे दर चढत राहिल्यामुळे आणि आर्थिक मदत मागे राहिली आहे, तर सार्वजनिक आणि खाजगी चार वर्षांच्या वाढत्या संख्येने विशिष्ट उत्पन्नाच्या खाली असलेल्या विद्यार्थ्यांना विनामूल्य शिकवणी देत आहेत.२०० 2008 मध्ये, टेक्सास ए अँड एमने ज्या विद्यार्थ्यांच्या कुटुंबाचे उत्पन्न $ 60,000 पेक्षा कमी होते अशा विद्यार्थ्यांना विनामूल्य शिकवणी देण्यास सुरवात केली.मिशिगनने कलामझू प्रॉमिसची स्थापना केली, ज्यात राज्यातील कोणत्याही सार्वजनिक महाविद्यालयात तसेच 15 खासगी महाविद्यालयांमध्ये चार वर्षे शिकवणी समाविष्ट आहे.लुईझियाना एक अधिक प्रतिबंधात्मक प्रोग्राम ऑफर करतो जो किमान योग्यता चाचणी स्कोअरसह काही सावधगिरीसह येतो.गेल्या वर्षी, न्यूयॉर्कने एक्सेलियर शिष्यवृत्ती सुरू केली, ज्यामुळे मध्यमवर्गीय कुटुंबे आणि वर्षाकाठी १२,००,००० डॉलर्सची व्यक्ती सर्व कन आणि सनी दोन आणि चार वर्षांच्या महाविद्यालयांमध्ये शिकवणी-मुक्त नावनोंदणीसाठी पात्र ठरली.परंतु काही राज्यांना असे कार्यक्रम टिकविणे कठीण आहे.ओरेगॉनने २०१ 2016 मध्ये ओरेगॉन प्रॉमिस लाँच केले पण अर्थसंकल्पातील कमतरतेनंतर तेथील कार्यक्रम परत करावा लागला, असे प्यू यांनी सांगितले.संपादकाची टीपः एनपीआर सदस्य स्टेशन कुटचा प्रसारण परवाना टेक्सास विद्यापीठाच्या मालकीचा आहे.त्याचे न्यूजरूम स्वतंत्रपणे कार्य करते.\n"
          ]
        }
      ],
      "source": [
        "# Function to translate a sentence\n",
        "def translate_sentence(article, target_language):\n",
        "    # Initialize the Translator\n",
        "    translator = Translator()\n",
        "\n",
        "    # Translate the sentence to the target language\n",
        "    translated_sentence = translator.translate(article, dest=target_language).text\n",
        "\n",
        "    return translated_sentence\n",
        "\n",
        "# Sentence to be translated\n",
        "article = ' '.join(sentence_list)\n",
        "\n",
        "# # Prompt the user to specify the target language Target language code (e.g., 'es' for Spanish)\n",
        "target_language = input(\"Enter the target language (e.g., 'es' for Spanish): \")\n",
        "# Translate the sentence\n",
        "translated_sentence = translate_sentence(article, target_language)\n",
        "\n",
        "# Print the translated sentence\n",
        "print(f\"Original Sentence: {article}\")\n",
        "print(f\"Translated Sentence: {translated_sentence}\")\n"
      ]
    },
    {
      "cell_type": "markdown",
      "metadata": {
        "id": "QiFJUh2RX53O"
      },
      "source": [
        "#**Now to Summerize the News Article**"
      ]
    },
    {
      "cell_type": "code",
      "execution_count": null,
      "metadata": {
        "colab": {
          "base_uri": "https://localhost:8080/"
        },
        "id": "dXDxPk2FQWdP",
        "outputId": "72468c21-8c84-4673-fa4e-0a7ecbe39033"
      },
      "outputs": [
        {
          "name": "stdout",
          "output_type": "stream",
          "text": [
            "चार वर्षांच्या महाविद्यालये आणि विद्यापीठांना आर्थिक स्पेक्ट्रमच्या खालच्या टोकापासून प्रतिभावान विद्यार्थ्यांची भरती करण्यात अडचण आहे ज्यांना मोठ्या प्रमाणात कर्ज न घेता अशा संस्थांना उपस्थित राहणे परवडत नाही.यावर उपाय म्हणून-कमीतकमी काही प्रमाणात-टेक्सास-ऑस्टिन विद्यापीठाने घोषित केले की ते राज्यातील पदवीधरांना संपूर्ण शिकवणी शिष्यवृत्ती देत आहेत ज्यांची कुटुंबे दर वर्षी, 000 65,000 किंवा त्यापेक्षा कमी करतात.२०२० च्या शरद .तूतील कार्यक्रम सुरू करण्यासाठी राज्याच्या कायम विद्यापीठाच्या निधीतून १ $ ० दशलक्ष डॉलर्सची देणगी स्थापित करण्यासाठी टेक्सास सिस्टम बोर्ड ऑफ रीजेन्ट्सने मंगळवारी एकमताने मतदान केले.यूटी ऑस्टिन पदवीचे मूल्य, आम्ही कायमस्वरुपी विद्यापीठाच्या निधीतून वितरण समर्पित करीत आहोत ज्यामुळे विद्यार्थ्यांना थेट फायदा होईल आणि त्यांचे पदवी अधिक परवडतील, ”असे मतदानानंतर सांगितले.ते म्हणाले, “यामुळे आमच्या महान राज्यातील विद्यार्थ्यांना पुढील वर्षानुवर्षे फायदा होईल,” ते पुढे म्हणाले.एन्डॉवमेंट-ज्यात वेस्ट टेक्सासमधील राज्य-मालकीच्या जमिनीवर कमावलेल्या तेल आणि गॅस रॉयल्टीच्या पैशांचा समावेश आहे-ज्यांच्या कुटुंबियांना $ 30,000 पेक्षा कमी पैसे कमावतात अशा विद्यार्थ्यांना विनामूल्य शिकवणी देणारी विद्यमान कार्यक्रम दुप्पट आहे.हे मध्यमवर्गीय विद्यार्थ्यांसाठी आर्थिक सहाय्य देखील वाढवते ज्यांची कुटुंबे सध्याच्या १०,००,००० डॉलर्सच्या तुलनेत वर्षाकाठी १२,००,००० डॉलर्सपर्यंत कमावतात.टेक्सास सिस्टमच्या अधिक परवडणार्‍या विद्यापीठांमध्ये यूटी-ऑस्टिन आहे;शिकवणी आणि फी किंमत सुमारे, 10,500 आहे.या शुल्कासाठी या शुल्काचे बिल दिले जाईल परंतु खोली आणि बोर्डसह अतिरिक्त राहणीमान खर्च होणार नाही, जे वार्षिक फीमध्ये आणखी 17,000 डॉलर्स जोडू शकेल.अधिका officials ्यांची अपेक्षा आहे की सुमारे 8,600 विद्यार्थ्यांची अपेक्षा आहे - जवळजवळ एक चतुर्थांश पदवीधर, ज्यात आधीपासूनच नोंदणीकृत आहे - संपूर्ण शिकवणी कार्यक्रमाचा फायदा होईल आणि आणखी 5,700 अतिरिक्त आर्थिक मदतीसाठी प्रवेश करेल, असे या प्रसिद्धीपत्रकात म्हटले आहे.हस्तांतरण विद्यार्थी देखील पात्र असतील, परंतु पदवीधर विद्यार्थी होणार नाहीत.\"महाविद्यालयीन पदवीपेक्षा सामाजिक आणि आर्थिक हालचालीचे कोणतेही मोठे इंजिन नाही आणि या उपक्रमामुळे हे सुनिश्चित होते की अधिक टेक्सासना उच्च-गुणवत्तेच्या यूटी ऑस्टिन शिक्षणाचा फायदा होईल,\" असे विद्यापीठाचे चांसलर जेम्स मिलिकेन यांनी एका निवेदनात म्हटले आहे.ह्यूस्टनचा येणारा नवीन माणूस सिंडी मुओझ बुधवारी अभिमुखतेसाठी कॅम्पसमध्ये होता.तिला देणगीबद्दल जाणून घेण्यास आनंद झाला.तिची आई एकल पालक आहे जी घरकाम करणारी व्यक्ती म्हणून काम करत आहे आणि समाप्त करण्यासाठी इतर विचित्र नोकरी करत आहे.मंगळवारपर्यंत मुओझने तिच्या बहुतेक महाविद्यालयासाठी कर्जासह पैसे देण्याची योजना आखली.\"मला माहित आहे की मी विद्यार्थ्यांच्या कर्जात जाणार आहे,\" ती म्हणाली, ती तिच्या स्वप्नातील शाळेत जाण्यासाठी कर्ज घेण्यास तयार आहे.\"माझ्याकडे हे आधीच माझ्या डोक्यात होते कारण माझी बहीण महाविद्यालयात गेली होती आणि तिला कर्ज घ्यावे लागले आणि ती अजूनही कर्जात काम करत आहे आणि ती 38 वर्षांची आहे,\" मुओझ म्हणाले.एकदा ते अंमलात आल्यावर, नवीन आर्थिक सहाय्य कार्यक्रम मुओझला लागू होईल आणि तिच्या सर्व शिकवणीचा समावेश करेल.ती म्हणाली की तिच्या राहण्याच्या काही खर्चासाठी तिला फक्त कर्जाची आवश्यकता आहे.\"या प्रकारामुळे मला असे वाटते की मी योग्य शाळा निवडली आहे,\" मुनोज म्हणाले.\"कारण एखादी शाळा जी आपल्या सामाजिक-आर्थिक स्थितीकडे पाहण्यास तयार आहे, आपल्याकडे एक विद्यार्थी म्हणून आपल्याकडे पहा, ज्याला फक्त आपले शिक्षण वाढवायचे आहे आणि करिअर करण्याची इच्छा आहे, मला वाटते की ते पूर्वीचे आर्थिक मुद्दे पाहतात आणि ते सारखे आहेत,'तुम्हाला हे करायचे आहे? मग आम्ही तुम्हाला मदत करणार आहोत.'\"शाळेने हे नमूद केले की ते $ 65,000 च्या कॅपवर आले आहे कारण 2017 मध्ये टेक्सासमधील सरासरी मध्यम घरगुती उत्पन्न $ 59,206 होते.शिकवणीचे दर चढत राहिल्यामुळे आणि आर्थिक मदत मागे राहिली आहे, तर सार्वजनिक आणि खाजगी चार वर्षांच्या वाढत्या संख्येने विशिष्ट उत्पन्नाच्या खाली असलेल्या विद्यार्थ्यांना विनामूल्य शिकवणी देत आहेत.२०० 2008 मध्ये, टेक्सास ए अँड एमने ज्या विद्यार्थ्यांच्या कुटुंबाचे उत्पन्न $ 60,000 पेक्षा कमी होते अशा विद्यार्थ्यांना विनामूल्य शिकवणी देण्यास सुरवात केली.मिशिगनने कलामझू प्रॉमिसची स्थापना केली, ज्यात राज्यातील कोणत्याही सार्वजनिक महाविद्यालयात तसेच 15 खासगी महाविद्यालयांमध्ये चार वर्षे शिकवणी समाविष्ट आहे.लुईझियाना एक अधिक प्रतिबंधात्मक प्रोग्राम ऑफर करतो जो किमान योग्यता चाचणी स्कोअरसह काही सावधगिरीसह येतो.गेल्या वर्षी, न्यूयॉर्कने एक्सेलियर शिष्यवृत्ती सुरू केली, ज्यामुळे मध्यमवर्गीय कुटुंबे आणि वर्षाकाठी १२,००,००० डॉलर्सची व्यक्ती सर्व कन आणि सनी दोन आणि चार वर्षांच्या महाविद्यालयांमध्ये शिकवणी-मुक्त नावनोंदणीसाठी पात्र ठरली.परंतु काही राज्यांना असे कार्यक्रम टिकविणे कठीण आहे.ओरेगॉनने २०१ 2016 मध्ये ओरेगॉन प्रॉमिस लाँच केले पण अर्थसंकल्पातील कमतरतेनंतर तेथील कार्यक्रम परत करावा लागला, असे प्यू यांनी सांगितले.संपादकाची टीपः एनपीआर सदस्य स्टेशन कुटचा प्रसारण परवाना टेक्सास विद्यापीठाच्या मालकीचा आहे.त्याचे न्यूजरूम स्वतंत्रपणे कार्य करते.\n"
          ]
        }
      ],
      "source": [
        "print(translated_sentence)"
      ]
    },
    {
      "cell_type": "markdown",
      "metadata": {
        "id": "EX8arka69ulm"
      },
      "source": []
    },
    {
      "cell_type": "code",
      "execution_count": null,
      "metadata": {
        "id": "QAfrd2dQ9u3y"
      },
      "outputs": [],
      "source": [
        "#!pip install bert-extractive-summarizer transformers\n"
      ]
    },
    {
      "cell_type": "code",
      "execution_count": null,
      "metadata": {
        "colab": {
          "base_uri": "https://localhost:8080/"
        },
        "id": "df0UIXxMCbFM",
        "outputId": "de71a6bd-0b9f-46c6-9528-f4d5ab2248e9"
      },
      "outputs": [
        {
          "output_type": "stream",
          "name": "stderr",
          "text": [
            "Your max_length is set to 150, but your input_length is only 65. Since this is a summarization task, where outputs shorter than the input are typically wanted, you might consider decreasing max_length manually, e.g. summarizer('...', max_length=32)\n",
            "Your max_length is set to 150, but your input_length is only 64. Since this is a summarization task, where outputs shorter than the input are typically wanted, you might consider decreasing max_length manually, e.g. summarizer('...', max_length=32)\n",
            "Your max_length is set to 150, but your input_length is only 23. Since this is a summarization task, where outputs shorter than the input are typically wanted, you might consider decreasing max_length manually, e.g. summarizer('...', max_length=11)\n",
            "Your max_length is set to 150, but your input_length is only 10. Since this is a summarization task, where outputs shorter than the input are typically wanted, you might consider decreasing max_length manually, e.g. summarizer('...', max_length=5)\n",
            "Your max_length is set to 150, but your input_length is only 14. Since this is a summarization task, where outputs shorter than the input are typically wanted, you might consider decreasing max_length manually, e.g. summarizer('...', max_length=7)\n",
            "Your max_length is set to 150, but your input_length is only 64. Since this is a summarization task, where outputs shorter than the input are typically wanted, you might consider decreasing max_length manually, e.g. summarizer('...', max_length=32)\n",
            "Your max_length is set to 150, but your input_length is only 54. Since this is a summarization task, where outputs shorter than the input are typically wanted, you might consider decreasing max_length manually, e.g. summarizer('...', max_length=27)\n",
            "Your max_length is set to 150, but your input_length is only 21. Since this is a summarization task, where outputs shorter than the input are typically wanted, you might consider decreasing max_length manually, e.g. summarizer('...', max_length=10)\n",
            "Your max_length is set to 150, but your input_length is only 106. Since this is a summarization task, where outputs shorter than the input are typically wanted, you might consider decreasing max_length manually, e.g. summarizer('...', max_length=53)\n",
            "Your max_length is set to 150, but your input_length is only 140. Since this is a summarization task, where outputs shorter than the input are typically wanted, you might consider decreasing max_length manually, e.g. summarizer('...', max_length=70)\n",
            "Your max_length is set to 150, but your input_length is only 8. Since this is a summarization task, where outputs shorter than the input are typically wanted, you might consider decreasing max_length manually, e.g. summarizer('...', max_length=4)\n",
            "Your max_length is set to 150, but your input_length is only 59. Since this is a summarization task, where outputs shorter than the input are typically wanted, you might consider decreasing max_length manually, e.g. summarizer('...', max_length=29)\n",
            "Your max_length is set to 150, but your input_length is only 10. Since this is a summarization task, where outputs shorter than the input are typically wanted, you might consider decreasing max_length manually, e.g. summarizer('...', max_length=5)\n",
            "Your max_length is set to 150, but your input_length is only 78. Since this is a summarization task, where outputs shorter than the input are typically wanted, you might consider decreasing max_length manually, e.g. summarizer('...', max_length=39)\n",
            "Your max_length is set to 150, but your input_length is only 33. Since this is a summarization task, where outputs shorter than the input are typically wanted, you might consider decreasing max_length manually, e.g. summarizer('...', max_length=16)\n",
            "Your max_length is set to 150, but your input_length is only 104. Since this is a summarization task, where outputs shorter than the input are typically wanted, you might consider decreasing max_length manually, e.g. summarizer('...', max_length=52)\n",
            "Your max_length is set to 150, but your input_length is only 65. Since this is a summarization task, where outputs shorter than the input are typically wanted, you might consider decreasing max_length manually, e.g. summarizer('...', max_length=32)\n"
          ]
        },
        {
          "output_type": "stream",
          "name": "stdout",
          "text": [
            "Original Article Length: 4619 characters\n",
            "Summarized Article Length: 6570 characters\n",
            "\n",
            "Combined Summary:\n",
            "Cambodia is one of the oldest languages in the world. It means 'cambodian' in Hindi and means \"citizen\" in English. It is also known as 'camelopard' and 'crocodile' in Spanish.\n",
            "‘’’ ‘ ’  “’, “”, ’” and  ”. ‘'’ and ‘ ”’. ’.\n",
            "“”” “ ”  ‘’ ‘”, 000 65,000’,” ”. ”, ”’’. “ ”  “, “.   “,  ”,. “   “.” , “…” . “I’m sorry, I can’t believe I’ve got to say this, but I have to say it.’\n",
            "The price of $ is $1,000,000. $ is the amount of money spent on a single dollar bill. The price of a dollar is the sum of all the money that is spent on each dollar. The cost of $1.00 is the price of one dollar.\n",
            "The world is a big place. It is also a very small place. We are all in it together. We're all in this together. It's time to get to know each other. We'll be here for you all the time.\n",
            "‘’’ ‘”’ means ‘I’m not going to tell you what to do’,’ says the author. “”. ”” “It means I’ll tell you how to do it,” he adds. ‘It’s not about what you do, but how you do it.’\n",
            "Vast majority of people in the U.S. are of Indian descent. They live in India, Pakistan, Bangladesh and Sri Lanka. The majority of them live in rural areas. They are mostly poor and live in poverty. They have little or no money.\n",
            "’s ‘’’, “””, ” ’. ’”. “, ‘. ” “; “.  ” ‘, ’ ”,’ ‘; ”; ‘,'’ '‘”; '’' ’, '”'’; ’' '‘,”\n",
            "$ 30,000 is the minimum wage in the U.S. for a single person. The minimum wage for a married couple is $30,000. For confidential support call the Samaritans on 08457 90 90 90 or visit a local Samaritans branch, see www.samaritans.org for details.\n",
            "10,500,000, 10,500    ‘‘ ’’, ‘”’ “”, ” ’. “,”  ”. ”, “, ‚”  ‚ , “ ”,.  ,  “,\"”  \" ,\"“\", “\",” \"’\"’\", ”,\"’,\" '’,'’'”,'”'‘, ’“’', ‘,’ �\n",
            "Vast majority of the world's population is from India. The country has the highest proportion of Indians of any other in the world, according to the latest census data. India has the second highest percentage of Indians in the country after the U.S.\n",
            "17,000 officials from around the world are involved in the case. The case is being investigated by the U.S. Department of Homeland Security. The investigation is being handled by the FBI in Washington, D.C. and New York City.\n",
            "Vast majority of the world's media is based in India. The country is one of the fastest-growing in the world, according to a new survey. It's the first time in more than a decade that the country has been ranked in the top 10 in the country.\n",
            "The Hindu is a Hindu religion. It is believed to be the religion of the Hindu god Vishnu. The Hindu is also known as the Hindu religion of Vishnu, the god of Shiva. It means \"God of the Sun\"\n",
            "The author of this article was inspired by the book \"The Power of Love\" by William Blake, published by Penguin Books. The book is a collection of short stories by Blake, with a focus on the power of love. Read more at: http://www.penguin.com/books/the-power-of-love.\n",
            "The author is the author of the book, \"The Book Thief: The Secret History of the World’s Most Beautiful People\" The book is published by Simon & Schuster, a division of Simon and Schuster Inc. It is published in English and French.\n",
            "\"I'm sorry, I can't believe I'm still alive,\" he writes. \"I'm so glad I'm not dead,\" he adds. \"It's a good thing I'm alive. It's good to be alive. I've been through a lot.\"\n",
            "“‘’ ‘”’ \"’” “ ‚”-‗’  ”\"’\"” \"‘'’ ’'” ‘\"“\"   -”. “\"\"‚\" “ “: ‬”, “ ”, \"”: “,\" \"“, ”: \" ,  ,’: ”“\", \"‚,”  “, :  ’, ‚, ’�\n",
            "‘’’ ‘”’  ’.” “’,’ ”, ‘, “, ’,  ”. ‘. “. ’ ”, “,” “”  “\", “,\" ”” and “\"” have been translated as ‘I’m sorry, I can’t believe I’ve got to say this.’\n",
            "‘’’ ‘ ’  ‘ ”’   “’,”  ”, ‘,’ and ‘.’. “.”. ’ , “ “,“” and  , . ‘'’ ' '  '  '’' “,   ‚”,.       -     –“.  .  –” • : “I’m going to\n",
            "‘’’ ‘”’ is a term used to refer to a person who has been in a relationship with another person for more than one year. It means ‘to be in love’. “” is a word used to describe a relationship between a man and a woman.\n",
            "\"I am a man of the people,\" he says. \"I am not a man. I am a human being,\" he adds. \"We are all human. We are all in this together. We all have the potential to be human beings\"\n",
            "\"I'm sorry, I can't help you. I'm sorry. It's just that I'm not allowed to do it.\" \"I'm not supposed to be able to do anything. I've been banned from doing anything.\" \"You can't do anything, I'm allowed to stop doing anything. You can't. You're allowed to. Do you know what I'm doing?\"\n",
            "The Hindu is a Hindu religion. It is believed that the Hindu god Vishnu is the destroyer of worlds. The Hindu is believed to be the most powerful force in the universe. The Hindus are believed to have the highest number of members in the world.\n",
            "Vast majority of India's population lives in rural areas, according to census data. The majority of people live in areas with a population of less than 50,000. The average household income is less than $30,000 a year. India has one of the lowest per capita incomes in the world.\n",
            "‘’’ ‘”’   ” “”. “.”  “\"” \"’\" \"“’. ‘\"’ \"“. ”  “ ”, ”“, “,\" “,” “,\" \"” and ”\"‘.’ '’'’, '”'” ' '  ”. '‚ ,  '\"\", '“\"\", “\",  \"\", \"  ‘\n",
            "The Hindu is a Hindu religion. It believes in reincarnation, reincarnation and reincarnation. It is also known as Hinduism. The Hindu religion is based on the worship of the Vedas, which is believed to be a form of Shiva. The Vedas are believed to have originated in India.\n",
            "\"I'm sorry, I can't help it. I'm not going to lie to you. I've been lying to you all my life,\" he said. \"I'm not a liar. I'll tell you what I really am. I just don't want you to think that I'm lying.\"\n",
            "\"I'm sorry, I can't believe I'm still alive,\" he writes. \"I'm so glad I'm not dead,\" he adds. \"It's a good thing I'm alive. I'm glad I've got a life\"\n",
            "‘’’ ‘ ’ '‘'’,’. ‘,'’' '‘. '’,'”. ’‘,”, ‘''“” '”’;. ‚’,. ‘, “’: ‘I’m sorry. I don’t know what you’re talking about. I’ve got a question for you.’.' ‘.  ‘ ‘What’s your question?’., ‘How do I answer it?', '“I�\n",
            "\"I'm going to write a book about my life. It's going to be really good. I'm not going to lie to you,\" he says. \"I'm gonna be really, really good at it. I am going to do my best to make it.\"\n",
            "$ 65,000 is $59,206. 2017 is the most expensive year on record for the U.S. stock market. $65,000 was the highest price ever paid by a single person on the stock market at the time of this writing.\n",
            "“I’ve got $60,000 to spend. I’m going to spend it.” “You’re not going to get it,” he says. “It’s going to be a lot of money.’”\n",
            "‘’’ ‘”’ is a term used to refer to the use of the word ‘fear’ in the English language. “” is a way of referring to the fear of the fear that a person may have of losing control of their emotions. ”” ’ ”  “’ ” means ‘to fear’.\n",
            "’s’  ‘’ ‘” ’: “’”: ’’, ‘. ’:’;. ”:”, ”’. “: ”; ”. ‘:    ’;   ‘; ‘,      “,”  . ‚ .\n",
            "\n"
          ]
        }
      ],
      "source": [
        "from transformers import pipeline, BartTokenizer, BartForConditionalGeneration\n",
        "import spacy\n",
        "\n",
        "# Initialize the summarization pipeline with the BART model\n",
        "summarizer = pipeline(\"summarization\", model=\"facebook/bart-large-cnn\")\n",
        "\n",
        "# Initialize spaCy for segmenting the text\n",
        "nlp = spacy.load(\"en_core_web_sm\")\n",
        "\n",
        "# Long article text\n",
        "long_article = translated_sentence\n",
        "\n",
        "# Process the  article with spaCy to split it into paragraphs\n",
        "doc = nlp(long_article)\n",
        "paragraphs = [str(para) for para in doc.sents]\n",
        "\n",
        "# Initialize variables for the combined summary and lengths\n",
        "combined_summary = \"\"\n",
        "original_length = len(long_article)\n",
        "summarized_length = 0\n",
        "\n",
        "# Summarize each paragraph and combine the summaries\n",
        "for paragraph in paragraphs:\n",
        "    # Summarize the paragraph\n",
        "    summary = summarizer(paragraph, max_length=150, min_length=50, do_sample=False)[0][\"summary_text\"]\n",
        "    summarized_length += len(summary)\n",
        "    combined_summary += summary + \"\\n\"\n",
        "\n",
        "# Print the length of the original and summarized articles\n",
        "print(f\"Original Article Length: {original_length} characters\")\n",
        "print(f\"Summarized Article Length: {summarized_length} characters\")\n",
        "\n",
        "# Print the combined summary\n",
        "print(\"\\nCombined Summary:\")\n",
        "print(combined_summary)\n"
      ]
    },
    {
      "cell_type": "markdown",
      "source": [
        "Or second method to summarize the text"
      ],
      "metadata": {
        "id": "f4rALBz2YSmV"
      }
    },
    {
      "cell_type": "code",
      "execution_count": null,
      "metadata": {
        "id": "wpKm2d-2DDdR",
        "colab": {
          "base_uri": "https://localhost:8080/",
          "height": 706
        },
        "outputId": "30cfd546-a7db-4d97-b9ca-6e4f13b56031"
      },
      "outputs": [
        {
          "output_type": "stream",
          "name": "stderr",
          "text": [
            "Your max_length is set to 142, but your input_length is only 65. Since this is a summarization task, where outputs shorter than the input are typically wanted, you might consider decreasing max_length manually, e.g. summarizer('...', max_length=32)\n",
            "Your max_length is set to 142, but your input_length is only 64. Since this is a summarization task, where outputs shorter than the input are typically wanted, you might consider decreasing max_length manually, e.g. summarizer('...', max_length=32)\n",
            "Your max_length is set to 142, but your input_length is only 23. Since this is a summarization task, where outputs shorter than the input are typically wanted, you might consider decreasing max_length manually, e.g. summarizer('...', max_length=11)\n",
            "Your max_length is set to 142, but your input_length is only 10. Since this is a summarization task, where outputs shorter than the input are typically wanted, you might consider decreasing max_length manually, e.g. summarizer('...', max_length=5)\n",
            "Your max_length is set to 142, but your input_length is only 14. Since this is a summarization task, where outputs shorter than the input are typically wanted, you might consider decreasing max_length manually, e.g. summarizer('...', max_length=7)\n",
            "Your max_length is set to 142, but your input_length is only 64. Since this is a summarization task, where outputs shorter than the input are typically wanted, you might consider decreasing max_length manually, e.g. summarizer('...', max_length=32)\n",
            "Your max_length is set to 142, but your input_length is only 54. Since this is a summarization task, where outputs shorter than the input are typically wanted, you might consider decreasing max_length manually, e.g. summarizer('...', max_length=27)\n",
            "Your max_length is set to 142, but your input_length is only 21. Since this is a summarization task, where outputs shorter than the input are typically wanted, you might consider decreasing max_length manually, e.g. summarizer('...', max_length=10)\n",
            "Your max_length is set to 142, but your input_length is only 106. Since this is a summarization task, where outputs shorter than the input are typically wanted, you might consider decreasing max_length manually, e.g. summarizer('...', max_length=53)\n",
            "Your max_length is set to 142, but your input_length is only 140. Since this is a summarization task, where outputs shorter than the input are typically wanted, you might consider decreasing max_length manually, e.g. summarizer('...', max_length=70)\n",
            "Your max_length is set to 142, but your input_length is only 8. Since this is a summarization task, where outputs shorter than the input are typically wanted, you might consider decreasing max_length manually, e.g. summarizer('...', max_length=4)\n",
            "Your max_length is set to 142, but your input_length is only 59. Since this is a summarization task, where outputs shorter than the input are typically wanted, you might consider decreasing max_length manually, e.g. summarizer('...', max_length=29)\n",
            "Your max_length is set to 142, but your input_length is only 10. Since this is a summarization task, where outputs shorter than the input are typically wanted, you might consider decreasing max_length manually, e.g. summarizer('...', max_length=5)\n",
            "Your max_length is set to 142, but your input_length is only 78. Since this is a summarization task, where outputs shorter than the input are typically wanted, you might consider decreasing max_length manually, e.g. summarizer('...', max_length=39)\n",
            "Your max_length is set to 142, but your input_length is only 33. Since this is a summarization task, where outputs shorter than the input are typically wanted, you might consider decreasing max_length manually, e.g. summarizer('...', max_length=16)\n",
            "Your max_length is set to 142, but your input_length is only 104. Since this is a summarization task, where outputs shorter than the input are typically wanted, you might consider decreasing max_length manually, e.g. summarizer('...', max_length=52)\n"
          ]
        },
        {
          "output_type": "error",
          "ename": "KeyboardInterrupt",
          "evalue": "ignored",
          "traceback": [
            "\u001b[0;31m---------------------------------------------------------------------------\u001b[0m",
            "\u001b[0;31mKeyboardInterrupt\u001b[0m                         Traceback (most recent call last)",
            "\u001b[0;32m<ipython-input-31-31599177881c>\u001b[0m in \u001b[0;36m<cell line: 23>\u001b[0;34m()\u001b[0m\n\u001b[1;32m     23\u001b[0m \u001b[0;32mfor\u001b[0m \u001b[0mparagraph\u001b[0m \u001b[0;32min\u001b[0m \u001b[0mparagraphs\u001b[0m\u001b[0;34m:\u001b[0m\u001b[0;34m\u001b[0m\u001b[0;34m\u001b[0m\u001b[0m\n\u001b[1;32m     24\u001b[0m     \u001b[0;31m# Summarize the paragraph without specifying max_length and min_length\u001b[0m\u001b[0;34m\u001b[0m\u001b[0;34m\u001b[0m\u001b[0m\n\u001b[0;32m---> 25\u001b[0;31m     \u001b[0msummary\u001b[0m \u001b[0;34m=\u001b[0m \u001b[0msummarizer\u001b[0m\u001b[0;34m(\u001b[0m\u001b[0mparagraph\u001b[0m\u001b[0;34m,\u001b[0m \u001b[0mdo_sample\u001b[0m\u001b[0;34m=\u001b[0m\u001b[0;32mTrue\u001b[0m\u001b[0;34m)\u001b[0m\u001b[0;34m[\u001b[0m\u001b[0;36m0\u001b[0m\u001b[0;34m]\u001b[0m\u001b[0;34m[\u001b[0m\u001b[0;34m\"summary_text\"\u001b[0m\u001b[0;34m]\u001b[0m\u001b[0;34m\u001b[0m\u001b[0;34m\u001b[0m\u001b[0m\n\u001b[0m\u001b[1;32m     26\u001b[0m     \u001b[0msummarized_length\u001b[0m \u001b[0;34m+=\u001b[0m \u001b[0mlen\u001b[0m\u001b[0;34m(\u001b[0m\u001b[0msummary\u001b[0m\u001b[0;34m)\u001b[0m\u001b[0;34m\u001b[0m\u001b[0;34m\u001b[0m\u001b[0m\n\u001b[1;32m     27\u001b[0m     \u001b[0mcombined_summary\u001b[0m \u001b[0;34m+=\u001b[0m \u001b[0msummary\u001b[0m \u001b[0;34m+\u001b[0m \u001b[0;34m\"\\n\"\u001b[0m\u001b[0;34m\u001b[0m\u001b[0;34m\u001b[0m\u001b[0m\n",
            "\u001b[0;32m/usr/local/lib/python3.10/dist-packages/transformers/pipelines/text2text_generation.py\u001b[0m in \u001b[0;36m__call__\u001b[0;34m(self, *args, **kwargs)\u001b[0m\n\u001b[1;32m    263\u001b[0m               \u001b[0mids\u001b[0m \u001b[0mof\u001b[0m \u001b[0mthe\u001b[0m \u001b[0msummary\u001b[0m\u001b[0;34m.\u001b[0m\u001b[0;34m\u001b[0m\u001b[0;34m\u001b[0m\u001b[0m\n\u001b[1;32m    264\u001b[0m         \"\"\"\n\u001b[0;32m--> 265\u001b[0;31m         \u001b[0;32mreturn\u001b[0m \u001b[0msuper\u001b[0m\u001b[0;34m(\u001b[0m\u001b[0;34m)\u001b[0m\u001b[0;34m.\u001b[0m\u001b[0m__call__\u001b[0m\u001b[0;34m(\u001b[0m\u001b[0;34m*\u001b[0m\u001b[0margs\u001b[0m\u001b[0;34m,\u001b[0m \u001b[0;34m**\u001b[0m\u001b[0mkwargs\u001b[0m\u001b[0;34m)\u001b[0m\u001b[0;34m\u001b[0m\u001b[0;34m\u001b[0m\u001b[0m\n\u001b[0m\u001b[1;32m    266\u001b[0m \u001b[0;34m\u001b[0m\u001b[0m\n\u001b[1;32m    267\u001b[0m     \u001b[0;32mdef\u001b[0m \u001b[0mcheck_inputs\u001b[0m\u001b[0;34m(\u001b[0m\u001b[0mself\u001b[0m\u001b[0;34m,\u001b[0m \u001b[0minput_length\u001b[0m\u001b[0;34m:\u001b[0m \u001b[0mint\u001b[0m\u001b[0;34m,\u001b[0m \u001b[0mmin_length\u001b[0m\u001b[0;34m:\u001b[0m \u001b[0mint\u001b[0m\u001b[0;34m,\u001b[0m \u001b[0mmax_length\u001b[0m\u001b[0;34m:\u001b[0m \u001b[0mint\u001b[0m\u001b[0;34m)\u001b[0m \u001b[0;34m->\u001b[0m \u001b[0mbool\u001b[0m\u001b[0;34m:\u001b[0m\u001b[0;34m\u001b[0m\u001b[0;34m\u001b[0m\u001b[0m\n",
            "\u001b[0;32m/usr/local/lib/python3.10/dist-packages/transformers/pipelines/text2text_generation.py\u001b[0m in \u001b[0;36m__call__\u001b[0;34m(self, *args, **kwargs)\u001b[0m\n\u001b[1;32m    163\u001b[0m         \"\"\"\n\u001b[1;32m    164\u001b[0m \u001b[0;34m\u001b[0m\u001b[0m\n\u001b[0;32m--> 165\u001b[0;31m         \u001b[0mresult\u001b[0m \u001b[0;34m=\u001b[0m \u001b[0msuper\u001b[0m\u001b[0;34m(\u001b[0m\u001b[0;34m)\u001b[0m\u001b[0;34m.\u001b[0m\u001b[0m__call__\u001b[0m\u001b[0;34m(\u001b[0m\u001b[0;34m*\u001b[0m\u001b[0margs\u001b[0m\u001b[0;34m,\u001b[0m \u001b[0;34m**\u001b[0m\u001b[0mkwargs\u001b[0m\u001b[0;34m)\u001b[0m\u001b[0;34m\u001b[0m\u001b[0;34m\u001b[0m\u001b[0m\n\u001b[0m\u001b[1;32m    166\u001b[0m         if (\n\u001b[1;32m    167\u001b[0m             \u001b[0misinstance\u001b[0m\u001b[0;34m(\u001b[0m\u001b[0margs\u001b[0m\u001b[0;34m[\u001b[0m\u001b[0;36m0\u001b[0m\u001b[0;34m]\u001b[0m\u001b[0;34m,\u001b[0m \u001b[0mlist\u001b[0m\u001b[0;34m)\u001b[0m\u001b[0;34m\u001b[0m\u001b[0;34m\u001b[0m\u001b[0m\n",
            "\u001b[0;32m/usr/local/lib/python3.10/dist-packages/transformers/pipelines/base.py\u001b[0m in \u001b[0;36m__call__\u001b[0;34m(self, inputs, num_workers, batch_size, *args, **kwargs)\u001b[0m\n\u001b[1;32m   1127\u001b[0m             )\n\u001b[1;32m   1128\u001b[0m         \u001b[0;32melse\u001b[0m\u001b[0;34m:\u001b[0m\u001b[0;34m\u001b[0m\u001b[0;34m\u001b[0m\u001b[0m\n\u001b[0;32m-> 1129\u001b[0;31m             \u001b[0;32mreturn\u001b[0m \u001b[0mself\u001b[0m\u001b[0;34m.\u001b[0m\u001b[0mrun_single\u001b[0m\u001b[0;34m(\u001b[0m\u001b[0minputs\u001b[0m\u001b[0;34m,\u001b[0m \u001b[0mpreprocess_params\u001b[0m\u001b[0;34m,\u001b[0m \u001b[0mforward_params\u001b[0m\u001b[0;34m,\u001b[0m \u001b[0mpostprocess_params\u001b[0m\u001b[0;34m)\u001b[0m\u001b[0;34m\u001b[0m\u001b[0;34m\u001b[0m\u001b[0m\n\u001b[0m\u001b[1;32m   1130\u001b[0m \u001b[0;34m\u001b[0m\u001b[0m\n\u001b[1;32m   1131\u001b[0m     \u001b[0;32mdef\u001b[0m \u001b[0mrun_multi\u001b[0m\u001b[0;34m(\u001b[0m\u001b[0mself\u001b[0m\u001b[0;34m,\u001b[0m \u001b[0minputs\u001b[0m\u001b[0;34m,\u001b[0m \u001b[0mpreprocess_params\u001b[0m\u001b[0;34m,\u001b[0m \u001b[0mforward_params\u001b[0m\u001b[0;34m,\u001b[0m \u001b[0mpostprocess_params\u001b[0m\u001b[0;34m)\u001b[0m\u001b[0;34m:\u001b[0m\u001b[0;34m\u001b[0m\u001b[0;34m\u001b[0m\u001b[0m\n",
            "\u001b[0;32m/usr/local/lib/python3.10/dist-packages/transformers/pipelines/base.py\u001b[0m in \u001b[0;36mrun_single\u001b[0;34m(self, inputs, preprocess_params, forward_params, postprocess_params)\u001b[0m\n\u001b[1;32m   1134\u001b[0m     \u001b[0;32mdef\u001b[0m \u001b[0mrun_single\u001b[0m\u001b[0;34m(\u001b[0m\u001b[0mself\u001b[0m\u001b[0;34m,\u001b[0m \u001b[0minputs\u001b[0m\u001b[0;34m,\u001b[0m \u001b[0mpreprocess_params\u001b[0m\u001b[0;34m,\u001b[0m \u001b[0mforward_params\u001b[0m\u001b[0;34m,\u001b[0m \u001b[0mpostprocess_params\u001b[0m\u001b[0;34m)\u001b[0m\u001b[0;34m:\u001b[0m\u001b[0;34m\u001b[0m\u001b[0;34m\u001b[0m\u001b[0m\n\u001b[1;32m   1135\u001b[0m         \u001b[0mmodel_inputs\u001b[0m \u001b[0;34m=\u001b[0m \u001b[0mself\u001b[0m\u001b[0;34m.\u001b[0m\u001b[0mpreprocess\u001b[0m\u001b[0;34m(\u001b[0m\u001b[0minputs\u001b[0m\u001b[0;34m,\u001b[0m \u001b[0;34m**\u001b[0m\u001b[0mpreprocess_params\u001b[0m\u001b[0;34m)\u001b[0m\u001b[0;34m\u001b[0m\u001b[0;34m\u001b[0m\u001b[0m\n\u001b[0;32m-> 1136\u001b[0;31m         \u001b[0mmodel_outputs\u001b[0m \u001b[0;34m=\u001b[0m \u001b[0mself\u001b[0m\u001b[0;34m.\u001b[0m\u001b[0mforward\u001b[0m\u001b[0;34m(\u001b[0m\u001b[0mmodel_inputs\u001b[0m\u001b[0;34m,\u001b[0m \u001b[0;34m**\u001b[0m\u001b[0mforward_params\u001b[0m\u001b[0;34m)\u001b[0m\u001b[0;34m\u001b[0m\u001b[0;34m\u001b[0m\u001b[0m\n\u001b[0m\u001b[1;32m   1137\u001b[0m         \u001b[0moutputs\u001b[0m \u001b[0;34m=\u001b[0m \u001b[0mself\u001b[0m\u001b[0;34m.\u001b[0m\u001b[0mpostprocess\u001b[0m\u001b[0;34m(\u001b[0m\u001b[0mmodel_outputs\u001b[0m\u001b[0;34m,\u001b[0m \u001b[0;34m**\u001b[0m\u001b[0mpostprocess_params\u001b[0m\u001b[0;34m)\u001b[0m\u001b[0;34m\u001b[0m\u001b[0;34m\u001b[0m\u001b[0m\n\u001b[1;32m   1138\u001b[0m         \u001b[0;32mreturn\u001b[0m \u001b[0moutputs\u001b[0m\u001b[0;34m\u001b[0m\u001b[0;34m\u001b[0m\u001b[0m\n",
            "\u001b[0;32m/usr/local/lib/python3.10/dist-packages/transformers/pipelines/base.py\u001b[0m in \u001b[0;36mforward\u001b[0;34m(self, model_inputs, **forward_params)\u001b[0m\n\u001b[1;32m   1033\u001b[0m                 \u001b[0;32mwith\u001b[0m \u001b[0minference_context\u001b[0m\u001b[0;34m(\u001b[0m\u001b[0;34m)\u001b[0m\u001b[0;34m:\u001b[0m\u001b[0;34m\u001b[0m\u001b[0;34m\u001b[0m\u001b[0m\n\u001b[1;32m   1034\u001b[0m                     \u001b[0mmodel_inputs\u001b[0m \u001b[0;34m=\u001b[0m \u001b[0mself\u001b[0m\u001b[0;34m.\u001b[0m\u001b[0m_ensure_tensor_on_device\u001b[0m\u001b[0;34m(\u001b[0m\u001b[0mmodel_inputs\u001b[0m\u001b[0;34m,\u001b[0m \u001b[0mdevice\u001b[0m\u001b[0;34m=\u001b[0m\u001b[0mself\u001b[0m\u001b[0;34m.\u001b[0m\u001b[0mdevice\u001b[0m\u001b[0;34m)\u001b[0m\u001b[0;34m\u001b[0m\u001b[0;34m\u001b[0m\u001b[0m\n\u001b[0;32m-> 1035\u001b[0;31m                     \u001b[0mmodel_outputs\u001b[0m \u001b[0;34m=\u001b[0m \u001b[0mself\u001b[0m\u001b[0;34m.\u001b[0m\u001b[0m_forward\u001b[0m\u001b[0;34m(\u001b[0m\u001b[0mmodel_inputs\u001b[0m\u001b[0;34m,\u001b[0m \u001b[0;34m**\u001b[0m\u001b[0mforward_params\u001b[0m\u001b[0;34m)\u001b[0m\u001b[0;34m\u001b[0m\u001b[0;34m\u001b[0m\u001b[0m\n\u001b[0m\u001b[1;32m   1036\u001b[0m                     \u001b[0mmodel_outputs\u001b[0m \u001b[0;34m=\u001b[0m \u001b[0mself\u001b[0m\u001b[0;34m.\u001b[0m\u001b[0m_ensure_tensor_on_device\u001b[0m\u001b[0;34m(\u001b[0m\u001b[0mmodel_outputs\u001b[0m\u001b[0;34m,\u001b[0m \u001b[0mdevice\u001b[0m\u001b[0;34m=\u001b[0m\u001b[0mtorch\u001b[0m\u001b[0;34m.\u001b[0m\u001b[0mdevice\u001b[0m\u001b[0;34m(\u001b[0m\u001b[0;34m\"cpu\"\u001b[0m\u001b[0;34m)\u001b[0m\u001b[0;34m)\u001b[0m\u001b[0;34m\u001b[0m\u001b[0;34m\u001b[0m\u001b[0m\n\u001b[1;32m   1037\u001b[0m             \u001b[0;32melse\u001b[0m\u001b[0;34m:\u001b[0m\u001b[0;34m\u001b[0m\u001b[0;34m\u001b[0m\u001b[0m\n",
            "\u001b[0;32m/usr/local/lib/python3.10/dist-packages/transformers/pipelines/text2text_generation.py\u001b[0m in \u001b[0;36m_forward\u001b[0;34m(self, model_inputs, **generate_kwargs)\u001b[0m\n\u001b[1;32m    185\u001b[0m         \u001b[0mgenerate_kwargs\u001b[0m\u001b[0;34m[\u001b[0m\u001b[0;34m\"max_length\"\u001b[0m\u001b[0;34m]\u001b[0m \u001b[0;34m=\u001b[0m \u001b[0mgenerate_kwargs\u001b[0m\u001b[0;34m.\u001b[0m\u001b[0mget\u001b[0m\u001b[0;34m(\u001b[0m\u001b[0;34m\"max_length\"\u001b[0m\u001b[0;34m,\u001b[0m \u001b[0mself\u001b[0m\u001b[0;34m.\u001b[0m\u001b[0mmodel\u001b[0m\u001b[0;34m.\u001b[0m\u001b[0mconfig\u001b[0m\u001b[0;34m.\u001b[0m\u001b[0mmax_length\u001b[0m\u001b[0;34m)\u001b[0m\u001b[0;34m\u001b[0m\u001b[0;34m\u001b[0m\u001b[0m\n\u001b[1;32m    186\u001b[0m         \u001b[0mself\u001b[0m\u001b[0;34m.\u001b[0m\u001b[0mcheck_inputs\u001b[0m\u001b[0;34m(\u001b[0m\u001b[0minput_length\u001b[0m\u001b[0;34m,\u001b[0m \u001b[0mgenerate_kwargs\u001b[0m\u001b[0;34m[\u001b[0m\u001b[0;34m\"min_length\"\u001b[0m\u001b[0;34m]\u001b[0m\u001b[0;34m,\u001b[0m \u001b[0mgenerate_kwargs\u001b[0m\u001b[0;34m[\u001b[0m\u001b[0;34m\"max_length\"\u001b[0m\u001b[0;34m]\u001b[0m\u001b[0;34m)\u001b[0m\u001b[0;34m\u001b[0m\u001b[0;34m\u001b[0m\u001b[0m\n\u001b[0;32m--> 187\u001b[0;31m         \u001b[0moutput_ids\u001b[0m \u001b[0;34m=\u001b[0m \u001b[0mself\u001b[0m\u001b[0;34m.\u001b[0m\u001b[0mmodel\u001b[0m\u001b[0;34m.\u001b[0m\u001b[0mgenerate\u001b[0m\u001b[0;34m(\u001b[0m\u001b[0;34m**\u001b[0m\u001b[0mmodel_inputs\u001b[0m\u001b[0;34m,\u001b[0m \u001b[0;34m**\u001b[0m\u001b[0mgenerate_kwargs\u001b[0m\u001b[0;34m)\u001b[0m\u001b[0;34m\u001b[0m\u001b[0;34m\u001b[0m\u001b[0m\n\u001b[0m\u001b[1;32m    188\u001b[0m         \u001b[0mout_b\u001b[0m \u001b[0;34m=\u001b[0m \u001b[0moutput_ids\u001b[0m\u001b[0;34m.\u001b[0m\u001b[0mshape\u001b[0m\u001b[0;34m[\u001b[0m\u001b[0;36m0\u001b[0m\u001b[0;34m]\u001b[0m\u001b[0;34m\u001b[0m\u001b[0;34m\u001b[0m\u001b[0m\n\u001b[1;32m    189\u001b[0m         \u001b[0;32mif\u001b[0m \u001b[0mself\u001b[0m\u001b[0;34m.\u001b[0m\u001b[0mframework\u001b[0m \u001b[0;34m==\u001b[0m \u001b[0;34m\"pt\"\u001b[0m\u001b[0;34m:\u001b[0m\u001b[0;34m\u001b[0m\u001b[0;34m\u001b[0m\u001b[0m\n",
            "\u001b[0;32m/usr/local/lib/python3.10/dist-packages/torch/utils/_contextlib.py\u001b[0m in \u001b[0;36mdecorate_context\u001b[0;34m(*args, **kwargs)\u001b[0m\n\u001b[1;32m    113\u001b[0m     \u001b[0;32mdef\u001b[0m \u001b[0mdecorate_context\u001b[0m\u001b[0;34m(\u001b[0m\u001b[0;34m*\u001b[0m\u001b[0margs\u001b[0m\u001b[0;34m,\u001b[0m \u001b[0;34m**\u001b[0m\u001b[0mkwargs\u001b[0m\u001b[0;34m)\u001b[0m\u001b[0;34m:\u001b[0m\u001b[0;34m\u001b[0m\u001b[0;34m\u001b[0m\u001b[0m\n\u001b[1;32m    114\u001b[0m         \u001b[0;32mwith\u001b[0m \u001b[0mctx_factory\u001b[0m\u001b[0;34m(\u001b[0m\u001b[0;34m)\u001b[0m\u001b[0;34m:\u001b[0m\u001b[0;34m\u001b[0m\u001b[0;34m\u001b[0m\u001b[0m\n\u001b[0;32m--> 115\u001b[0;31m             \u001b[0;32mreturn\u001b[0m \u001b[0mfunc\u001b[0m\u001b[0;34m(\u001b[0m\u001b[0;34m*\u001b[0m\u001b[0margs\u001b[0m\u001b[0;34m,\u001b[0m \u001b[0;34m**\u001b[0m\u001b[0mkwargs\u001b[0m\u001b[0;34m)\u001b[0m\u001b[0;34m\u001b[0m\u001b[0;34m\u001b[0m\u001b[0m\n\u001b[0m\u001b[1;32m    116\u001b[0m \u001b[0;34m\u001b[0m\u001b[0m\n\u001b[1;32m    117\u001b[0m     \u001b[0;32mreturn\u001b[0m \u001b[0mdecorate_context\u001b[0m\u001b[0;34m\u001b[0m\u001b[0;34m\u001b[0m\u001b[0m\n",
            "\u001b[0;32m/usr/local/lib/python3.10/dist-packages/transformers/generation/utils.py\u001b[0m in \u001b[0;36mgenerate\u001b[0;34m(self, inputs, generation_config, logits_processor, stopping_criteria, prefix_allowed_tokens_fn, synced_gpus, assistant_model, streamer, negative_prompt_ids, negative_prompt_attention_mask, **kwargs)\u001b[0m\n\u001b[1;32m   1710\u001b[0m \u001b[0;34m\u001b[0m\u001b[0m\n\u001b[1;32m   1711\u001b[0m             \u001b[0;31m# 14. run beam sample\u001b[0m\u001b[0;34m\u001b[0m\u001b[0;34m\u001b[0m\u001b[0m\n\u001b[0;32m-> 1712\u001b[0;31m             return self.beam_sample(\n\u001b[0m\u001b[1;32m   1713\u001b[0m                 \u001b[0minput_ids\u001b[0m\u001b[0;34m,\u001b[0m\u001b[0;34m\u001b[0m\u001b[0;34m\u001b[0m\u001b[0m\n\u001b[1;32m   1714\u001b[0m                 \u001b[0mbeam_scorer\u001b[0m\u001b[0;34m,\u001b[0m\u001b[0;34m\u001b[0m\u001b[0;34m\u001b[0m\u001b[0m\n",
            "\u001b[0;32m/usr/local/lib/python3.10/dist-packages/transformers/generation/utils.py\u001b[0m in \u001b[0;36mbeam_sample\u001b[0;34m(self, input_ids, beam_scorer, logits_processor, stopping_criteria, logits_warper, max_length, pad_token_id, eos_token_id, output_attentions, output_hidden_states, output_scores, return_dict_in_generate, synced_gpus, **model_kwargs)\u001b[0m\n\u001b[1;32m   3336\u001b[0m             \u001b[0mmodel_inputs\u001b[0m \u001b[0;34m=\u001b[0m \u001b[0mself\u001b[0m\u001b[0;34m.\u001b[0m\u001b[0mprepare_inputs_for_generation\u001b[0m\u001b[0;34m(\u001b[0m\u001b[0minput_ids\u001b[0m\u001b[0;34m,\u001b[0m \u001b[0;34m**\u001b[0m\u001b[0mmodel_kwargs\u001b[0m\u001b[0;34m)\u001b[0m\u001b[0;34m\u001b[0m\u001b[0;34m\u001b[0m\u001b[0m\n\u001b[1;32m   3337\u001b[0m \u001b[0;34m\u001b[0m\u001b[0m\n\u001b[0;32m-> 3338\u001b[0;31m             outputs = self(\n\u001b[0m\u001b[1;32m   3339\u001b[0m                 \u001b[0;34m**\u001b[0m\u001b[0mmodel_inputs\u001b[0m\u001b[0;34m,\u001b[0m\u001b[0;34m\u001b[0m\u001b[0;34m\u001b[0m\u001b[0m\n\u001b[1;32m   3340\u001b[0m                 \u001b[0mreturn_dict\u001b[0m\u001b[0;34m=\u001b[0m\u001b[0;32mTrue\u001b[0m\u001b[0;34m,\u001b[0m\u001b[0;34m\u001b[0m\u001b[0;34m\u001b[0m\u001b[0m\n",
            "\u001b[0;32m/usr/local/lib/python3.10/dist-packages/torch/nn/modules/module.py\u001b[0m in \u001b[0;36m_call_impl\u001b[0;34m(self, *args, **kwargs)\u001b[0m\n\u001b[1;32m   1499\u001b[0m                 \u001b[0;32mor\u001b[0m \u001b[0m_global_backward_pre_hooks\u001b[0m \u001b[0;32mor\u001b[0m \u001b[0m_global_backward_hooks\u001b[0m\u001b[0;34m\u001b[0m\u001b[0;34m\u001b[0m\u001b[0m\n\u001b[1;32m   1500\u001b[0m                 or _global_forward_hooks or _global_forward_pre_hooks):\n\u001b[0;32m-> 1501\u001b[0;31m             \u001b[0;32mreturn\u001b[0m \u001b[0mforward_call\u001b[0m\u001b[0;34m(\u001b[0m\u001b[0;34m*\u001b[0m\u001b[0margs\u001b[0m\u001b[0;34m,\u001b[0m \u001b[0;34m**\u001b[0m\u001b[0mkwargs\u001b[0m\u001b[0;34m)\u001b[0m\u001b[0;34m\u001b[0m\u001b[0;34m\u001b[0m\u001b[0m\n\u001b[0m\u001b[1;32m   1502\u001b[0m         \u001b[0;31m# Do not call functions when jit is used\u001b[0m\u001b[0;34m\u001b[0m\u001b[0;34m\u001b[0m\u001b[0m\n\u001b[1;32m   1503\u001b[0m         \u001b[0mfull_backward_hooks\u001b[0m\u001b[0;34m,\u001b[0m \u001b[0mnon_full_backward_hooks\u001b[0m \u001b[0;34m=\u001b[0m \u001b[0;34m[\u001b[0m\u001b[0;34m]\u001b[0m\u001b[0;34m,\u001b[0m \u001b[0;34m[\u001b[0m\u001b[0;34m]\u001b[0m\u001b[0;34m\u001b[0m\u001b[0;34m\u001b[0m\u001b[0m\n",
            "\u001b[0;32m/usr/local/lib/python3.10/dist-packages/transformers/models/bart/modeling_bart.py\u001b[0m in \u001b[0;36mforward\u001b[0;34m(self, input_ids, attention_mask, decoder_input_ids, decoder_attention_mask, head_mask, decoder_head_mask, cross_attn_head_mask, encoder_outputs, past_key_values, inputs_embeds, decoder_inputs_embeds, labels, use_cache, output_attentions, output_hidden_states, return_dict)\u001b[0m\n\u001b[1;32m   1386\u001b[0m                 )\n\u001b[1;32m   1387\u001b[0m \u001b[0;34m\u001b[0m\u001b[0m\n\u001b[0;32m-> 1388\u001b[0;31m         outputs = self.model(\n\u001b[0m\u001b[1;32m   1389\u001b[0m             \u001b[0minput_ids\u001b[0m\u001b[0;34m,\u001b[0m\u001b[0;34m\u001b[0m\u001b[0;34m\u001b[0m\u001b[0m\n\u001b[1;32m   1390\u001b[0m             \u001b[0mattention_mask\u001b[0m\u001b[0;34m=\u001b[0m\u001b[0mattention_mask\u001b[0m\u001b[0;34m,\u001b[0m\u001b[0;34m\u001b[0m\u001b[0;34m\u001b[0m\u001b[0m\n",
            "\u001b[0;32m/usr/local/lib/python3.10/dist-packages/torch/nn/modules/module.py\u001b[0m in \u001b[0;36m_call_impl\u001b[0;34m(self, *args, **kwargs)\u001b[0m\n\u001b[1;32m   1499\u001b[0m                 \u001b[0;32mor\u001b[0m \u001b[0m_global_backward_pre_hooks\u001b[0m \u001b[0;32mor\u001b[0m \u001b[0m_global_backward_hooks\u001b[0m\u001b[0;34m\u001b[0m\u001b[0;34m\u001b[0m\u001b[0m\n\u001b[1;32m   1500\u001b[0m                 or _global_forward_hooks or _global_forward_pre_hooks):\n\u001b[0;32m-> 1501\u001b[0;31m             \u001b[0;32mreturn\u001b[0m \u001b[0mforward_call\u001b[0m\u001b[0;34m(\u001b[0m\u001b[0;34m*\u001b[0m\u001b[0margs\u001b[0m\u001b[0;34m,\u001b[0m \u001b[0;34m**\u001b[0m\u001b[0mkwargs\u001b[0m\u001b[0;34m)\u001b[0m\u001b[0;34m\u001b[0m\u001b[0;34m\u001b[0m\u001b[0m\n\u001b[0m\u001b[1;32m   1502\u001b[0m         \u001b[0;31m# Do not call functions when jit is used\u001b[0m\u001b[0;34m\u001b[0m\u001b[0;34m\u001b[0m\u001b[0m\n\u001b[1;32m   1503\u001b[0m         \u001b[0mfull_backward_hooks\u001b[0m\u001b[0;34m,\u001b[0m \u001b[0mnon_full_backward_hooks\u001b[0m \u001b[0;34m=\u001b[0m \u001b[0;34m[\u001b[0m\u001b[0;34m]\u001b[0m\u001b[0;34m,\u001b[0m \u001b[0;34m[\u001b[0m\u001b[0;34m]\u001b[0m\u001b[0;34m\u001b[0m\u001b[0;34m\u001b[0m\u001b[0m\n",
            "\u001b[0;32m/usr/local/lib/python3.10/dist-packages/transformers/models/bart/modeling_bart.py\u001b[0m in \u001b[0;36mforward\u001b[0;34m(self, input_ids, attention_mask, decoder_input_ids, decoder_attention_mask, head_mask, decoder_head_mask, cross_attn_head_mask, encoder_outputs, past_key_values, inputs_embeds, decoder_inputs_embeds, use_cache, output_attentions, output_hidden_states, return_dict)\u001b[0m\n\u001b[1;32m   1272\u001b[0m \u001b[0;34m\u001b[0m\u001b[0m\n\u001b[1;32m   1273\u001b[0m         \u001b[0;31m# decoder outputs consists of (dec_features, past_key_value, dec_hidden, dec_attn)\u001b[0m\u001b[0;34m\u001b[0m\u001b[0;34m\u001b[0m\u001b[0m\n\u001b[0;32m-> 1274\u001b[0;31m         decoder_outputs = self.decoder(\n\u001b[0m\u001b[1;32m   1275\u001b[0m             \u001b[0minput_ids\u001b[0m\u001b[0;34m=\u001b[0m\u001b[0mdecoder_input_ids\u001b[0m\u001b[0;34m,\u001b[0m\u001b[0;34m\u001b[0m\u001b[0;34m\u001b[0m\u001b[0m\n\u001b[1;32m   1276\u001b[0m             \u001b[0mattention_mask\u001b[0m\u001b[0;34m=\u001b[0m\u001b[0mdecoder_attention_mask\u001b[0m\u001b[0;34m,\u001b[0m\u001b[0;34m\u001b[0m\u001b[0;34m\u001b[0m\u001b[0m\n",
            "\u001b[0;32m/usr/local/lib/python3.10/dist-packages/torch/nn/modules/module.py\u001b[0m in \u001b[0;36m_call_impl\u001b[0;34m(self, *args, **kwargs)\u001b[0m\n\u001b[1;32m   1499\u001b[0m                 \u001b[0;32mor\u001b[0m \u001b[0m_global_backward_pre_hooks\u001b[0m \u001b[0;32mor\u001b[0m \u001b[0m_global_backward_hooks\u001b[0m\u001b[0;34m\u001b[0m\u001b[0;34m\u001b[0m\u001b[0m\n\u001b[1;32m   1500\u001b[0m                 or _global_forward_hooks or _global_forward_pre_hooks):\n\u001b[0;32m-> 1501\u001b[0;31m             \u001b[0;32mreturn\u001b[0m \u001b[0mforward_call\u001b[0m\u001b[0;34m(\u001b[0m\u001b[0;34m*\u001b[0m\u001b[0margs\u001b[0m\u001b[0;34m,\u001b[0m \u001b[0;34m**\u001b[0m\u001b[0mkwargs\u001b[0m\u001b[0;34m)\u001b[0m\u001b[0;34m\u001b[0m\u001b[0;34m\u001b[0m\u001b[0m\n\u001b[0m\u001b[1;32m   1502\u001b[0m         \u001b[0;31m# Do not call functions when jit is used\u001b[0m\u001b[0;34m\u001b[0m\u001b[0;34m\u001b[0m\u001b[0m\n\u001b[1;32m   1503\u001b[0m         \u001b[0mfull_backward_hooks\u001b[0m\u001b[0;34m,\u001b[0m \u001b[0mnon_full_backward_hooks\u001b[0m \u001b[0;34m=\u001b[0m \u001b[0;34m[\u001b[0m\u001b[0;34m]\u001b[0m\u001b[0;34m,\u001b[0m \u001b[0;34m[\u001b[0m\u001b[0;34m]\u001b[0m\u001b[0;34m\u001b[0m\u001b[0;34m\u001b[0m\u001b[0m\n",
            "\u001b[0;32m/usr/local/lib/python3.10/dist-packages/transformers/models/bart/modeling_bart.py\u001b[0m in \u001b[0;36mforward\u001b[0;34m(self, input_ids, attention_mask, encoder_hidden_states, encoder_attention_mask, head_mask, cross_attn_head_mask, past_key_values, inputs_embeds, use_cache, output_attentions, output_hidden_states, return_dict)\u001b[0m\n\u001b[1;32m   1130\u001b[0m                 )\n\u001b[1;32m   1131\u001b[0m             \u001b[0;32melse\u001b[0m\u001b[0;34m:\u001b[0m\u001b[0;34m\u001b[0m\u001b[0;34m\u001b[0m\u001b[0m\n\u001b[0;32m-> 1132\u001b[0;31m                 layer_outputs = decoder_layer(\n\u001b[0m\u001b[1;32m   1133\u001b[0m                     \u001b[0mhidden_states\u001b[0m\u001b[0;34m,\u001b[0m\u001b[0;34m\u001b[0m\u001b[0;34m\u001b[0m\u001b[0m\n\u001b[1;32m   1134\u001b[0m                     \u001b[0mattention_mask\u001b[0m\u001b[0;34m=\u001b[0m\u001b[0mattention_mask\u001b[0m\u001b[0;34m,\u001b[0m\u001b[0;34m\u001b[0m\u001b[0;34m\u001b[0m\u001b[0m\n",
            "\u001b[0;32m/usr/local/lib/python3.10/dist-packages/torch/nn/modules/module.py\u001b[0m in \u001b[0;36m_call_impl\u001b[0;34m(self, *args, **kwargs)\u001b[0m\n\u001b[1;32m   1499\u001b[0m                 \u001b[0;32mor\u001b[0m \u001b[0m_global_backward_pre_hooks\u001b[0m \u001b[0;32mor\u001b[0m \u001b[0m_global_backward_hooks\u001b[0m\u001b[0;34m\u001b[0m\u001b[0;34m\u001b[0m\u001b[0m\n\u001b[1;32m   1500\u001b[0m                 or _global_forward_hooks or _global_forward_pre_hooks):\n\u001b[0;32m-> 1501\u001b[0;31m             \u001b[0;32mreturn\u001b[0m \u001b[0mforward_call\u001b[0m\u001b[0;34m(\u001b[0m\u001b[0;34m*\u001b[0m\u001b[0margs\u001b[0m\u001b[0;34m,\u001b[0m \u001b[0;34m**\u001b[0m\u001b[0mkwargs\u001b[0m\u001b[0;34m)\u001b[0m\u001b[0;34m\u001b[0m\u001b[0;34m\u001b[0m\u001b[0m\n\u001b[0m\u001b[1;32m   1502\u001b[0m         \u001b[0;31m# Do not call functions when jit is used\u001b[0m\u001b[0;34m\u001b[0m\u001b[0;34m\u001b[0m\u001b[0m\n\u001b[1;32m   1503\u001b[0m         \u001b[0mfull_backward_hooks\u001b[0m\u001b[0;34m,\u001b[0m \u001b[0mnon_full_backward_hooks\u001b[0m \u001b[0;34m=\u001b[0m \u001b[0;34m[\u001b[0m\u001b[0;34m]\u001b[0m\u001b[0;34m,\u001b[0m \u001b[0;34m[\u001b[0m\u001b[0;34m]\u001b[0m\u001b[0;34m\u001b[0m\u001b[0;34m\u001b[0m\u001b[0m\n",
            "\u001b[0;32m/usr/local/lib/python3.10/dist-packages/transformers/models/bart/modeling_bart.py\u001b[0m in \u001b[0;36mforward\u001b[0;34m(self, hidden_states, attention_mask, encoder_hidden_states, encoder_attention_mask, layer_head_mask, cross_attn_layer_head_mask, past_key_value, output_attentions, use_cache)\u001b[0m\n\u001b[1;32m    425\u001b[0m         \u001b[0mself_attn_past_key_value\u001b[0m \u001b[0;34m=\u001b[0m \u001b[0mpast_key_value\u001b[0m\u001b[0;34m[\u001b[0m\u001b[0;34m:\u001b[0m\u001b[0;36m2\u001b[0m\u001b[0;34m]\u001b[0m \u001b[0;32mif\u001b[0m \u001b[0mpast_key_value\u001b[0m \u001b[0;32mis\u001b[0m \u001b[0;32mnot\u001b[0m \u001b[0;32mNone\u001b[0m \u001b[0;32melse\u001b[0m \u001b[0;32mNone\u001b[0m\u001b[0;34m\u001b[0m\u001b[0;34m\u001b[0m\u001b[0m\n\u001b[1;32m    426\u001b[0m         \u001b[0;31m# add present self-attn cache to positions 1,2 of present_key_value tuple\u001b[0m\u001b[0;34m\u001b[0m\u001b[0;34m\u001b[0m\u001b[0m\n\u001b[0;32m--> 427\u001b[0;31m         hidden_states, self_attn_weights, present_key_value = self.self_attn(\n\u001b[0m\u001b[1;32m    428\u001b[0m             \u001b[0mhidden_states\u001b[0m\u001b[0;34m=\u001b[0m\u001b[0mhidden_states\u001b[0m\u001b[0;34m,\u001b[0m\u001b[0;34m\u001b[0m\u001b[0;34m\u001b[0m\u001b[0m\n\u001b[1;32m    429\u001b[0m             \u001b[0mpast_key_value\u001b[0m\u001b[0;34m=\u001b[0m\u001b[0mself_attn_past_key_value\u001b[0m\u001b[0;34m,\u001b[0m\u001b[0;34m\u001b[0m\u001b[0;34m\u001b[0m\u001b[0m\n",
            "\u001b[0;32m/usr/local/lib/python3.10/dist-packages/torch/nn/modules/module.py\u001b[0m in \u001b[0;36m_call_impl\u001b[0;34m(self, *args, **kwargs)\u001b[0m\n\u001b[1;32m   1499\u001b[0m                 \u001b[0;32mor\u001b[0m \u001b[0m_global_backward_pre_hooks\u001b[0m \u001b[0;32mor\u001b[0m \u001b[0m_global_backward_hooks\u001b[0m\u001b[0;34m\u001b[0m\u001b[0;34m\u001b[0m\u001b[0m\n\u001b[1;32m   1500\u001b[0m                 or _global_forward_hooks or _global_forward_pre_hooks):\n\u001b[0;32m-> 1501\u001b[0;31m             \u001b[0;32mreturn\u001b[0m \u001b[0mforward_call\u001b[0m\u001b[0;34m(\u001b[0m\u001b[0;34m*\u001b[0m\u001b[0margs\u001b[0m\u001b[0;34m,\u001b[0m \u001b[0;34m**\u001b[0m\u001b[0mkwargs\u001b[0m\u001b[0;34m)\u001b[0m\u001b[0;34m\u001b[0m\u001b[0;34m\u001b[0m\u001b[0m\n\u001b[0m\u001b[1;32m   1502\u001b[0m         \u001b[0;31m# Do not call functions when jit is used\u001b[0m\u001b[0;34m\u001b[0m\u001b[0;34m\u001b[0m\u001b[0m\n\u001b[1;32m   1503\u001b[0m         \u001b[0mfull_backward_hooks\u001b[0m\u001b[0;34m,\u001b[0m \u001b[0mnon_full_backward_hooks\u001b[0m \u001b[0;34m=\u001b[0m \u001b[0;34m[\u001b[0m\u001b[0;34m]\u001b[0m\u001b[0;34m,\u001b[0m \u001b[0;34m[\u001b[0m\u001b[0;34m]\u001b[0m\u001b[0;34m\u001b[0m\u001b[0;34m\u001b[0m\u001b[0m\n",
            "\u001b[0;32m/usr/local/lib/python3.10/dist-packages/transformers/models/bart/modeling_bart.py\u001b[0m in \u001b[0;36mforward\u001b[0;34m(self, hidden_states, key_value_states, past_key_value, attention_mask, layer_head_mask, output_attentions)\u001b[0m\n\u001b[1;32m    211\u001b[0m             \u001b[0;31m# reuse k, v, self_attention\u001b[0m\u001b[0;34m\u001b[0m\u001b[0;34m\u001b[0m\u001b[0m\n\u001b[1;32m    212\u001b[0m             \u001b[0mkey_states\u001b[0m \u001b[0;34m=\u001b[0m \u001b[0mself\u001b[0m\u001b[0;34m.\u001b[0m\u001b[0m_shape\u001b[0m\u001b[0;34m(\u001b[0m\u001b[0mself\u001b[0m\u001b[0;34m.\u001b[0m\u001b[0mk_proj\u001b[0m\u001b[0;34m(\u001b[0m\u001b[0mhidden_states\u001b[0m\u001b[0;34m)\u001b[0m\u001b[0;34m,\u001b[0m \u001b[0;34m-\u001b[0m\u001b[0;36m1\u001b[0m\u001b[0;34m,\u001b[0m \u001b[0mbsz\u001b[0m\u001b[0;34m)\u001b[0m\u001b[0;34m\u001b[0m\u001b[0;34m\u001b[0m\u001b[0m\n\u001b[0;32m--> 213\u001b[0;31m             \u001b[0mvalue_states\u001b[0m \u001b[0;34m=\u001b[0m \u001b[0mself\u001b[0m\u001b[0;34m.\u001b[0m\u001b[0m_shape\u001b[0m\u001b[0;34m(\u001b[0m\u001b[0mself\u001b[0m\u001b[0;34m.\u001b[0m\u001b[0mv_proj\u001b[0m\u001b[0;34m(\u001b[0m\u001b[0mhidden_states\u001b[0m\u001b[0;34m)\u001b[0m\u001b[0;34m,\u001b[0m \u001b[0;34m-\u001b[0m\u001b[0;36m1\u001b[0m\u001b[0;34m,\u001b[0m \u001b[0mbsz\u001b[0m\u001b[0;34m)\u001b[0m\u001b[0;34m\u001b[0m\u001b[0;34m\u001b[0m\u001b[0m\n\u001b[0m\u001b[1;32m    214\u001b[0m             \u001b[0mkey_states\u001b[0m \u001b[0;34m=\u001b[0m \u001b[0mtorch\u001b[0m\u001b[0;34m.\u001b[0m\u001b[0mcat\u001b[0m\u001b[0;34m(\u001b[0m\u001b[0;34m[\u001b[0m\u001b[0mpast_key_value\u001b[0m\u001b[0;34m[\u001b[0m\u001b[0;36m0\u001b[0m\u001b[0;34m]\u001b[0m\u001b[0;34m,\u001b[0m \u001b[0mkey_states\u001b[0m\u001b[0;34m]\u001b[0m\u001b[0;34m,\u001b[0m \u001b[0mdim\u001b[0m\u001b[0;34m=\u001b[0m\u001b[0;36m2\u001b[0m\u001b[0;34m)\u001b[0m\u001b[0;34m\u001b[0m\u001b[0;34m\u001b[0m\u001b[0m\n\u001b[1;32m    215\u001b[0m             \u001b[0mvalue_states\u001b[0m \u001b[0;34m=\u001b[0m \u001b[0mtorch\u001b[0m\u001b[0;34m.\u001b[0m\u001b[0mcat\u001b[0m\u001b[0;34m(\u001b[0m\u001b[0;34m[\u001b[0m\u001b[0mpast_key_value\u001b[0m\u001b[0;34m[\u001b[0m\u001b[0;36m1\u001b[0m\u001b[0;34m]\u001b[0m\u001b[0;34m,\u001b[0m \u001b[0mvalue_states\u001b[0m\u001b[0;34m]\u001b[0m\u001b[0;34m,\u001b[0m \u001b[0mdim\u001b[0m\u001b[0;34m=\u001b[0m\u001b[0;36m2\u001b[0m\u001b[0;34m)\u001b[0m\u001b[0;34m\u001b[0m\u001b[0;34m\u001b[0m\u001b[0m\n",
            "\u001b[0;32m/usr/local/lib/python3.10/dist-packages/torch/nn/modules/module.py\u001b[0m in \u001b[0;36m_call_impl\u001b[0;34m(self, *args, **kwargs)\u001b[0m\n\u001b[1;32m   1499\u001b[0m                 \u001b[0;32mor\u001b[0m \u001b[0m_global_backward_pre_hooks\u001b[0m \u001b[0;32mor\u001b[0m \u001b[0m_global_backward_hooks\u001b[0m\u001b[0;34m\u001b[0m\u001b[0;34m\u001b[0m\u001b[0m\n\u001b[1;32m   1500\u001b[0m                 or _global_forward_hooks or _global_forward_pre_hooks):\n\u001b[0;32m-> 1501\u001b[0;31m             \u001b[0;32mreturn\u001b[0m \u001b[0mforward_call\u001b[0m\u001b[0;34m(\u001b[0m\u001b[0;34m*\u001b[0m\u001b[0margs\u001b[0m\u001b[0;34m,\u001b[0m \u001b[0;34m**\u001b[0m\u001b[0mkwargs\u001b[0m\u001b[0;34m)\u001b[0m\u001b[0;34m\u001b[0m\u001b[0;34m\u001b[0m\u001b[0m\n\u001b[0m\u001b[1;32m   1502\u001b[0m         \u001b[0;31m# Do not call functions when jit is used\u001b[0m\u001b[0;34m\u001b[0m\u001b[0;34m\u001b[0m\u001b[0m\n\u001b[1;32m   1503\u001b[0m         \u001b[0mfull_backward_hooks\u001b[0m\u001b[0;34m,\u001b[0m \u001b[0mnon_full_backward_hooks\u001b[0m \u001b[0;34m=\u001b[0m \u001b[0;34m[\u001b[0m\u001b[0;34m]\u001b[0m\u001b[0;34m,\u001b[0m \u001b[0;34m[\u001b[0m\u001b[0;34m]\u001b[0m\u001b[0;34m\u001b[0m\u001b[0;34m\u001b[0m\u001b[0m\n",
            "\u001b[0;32m/usr/local/lib/python3.10/dist-packages/torch/nn/modules/linear.py\u001b[0m in \u001b[0;36mforward\u001b[0;34m(self, input)\u001b[0m\n\u001b[1;32m    112\u001b[0m \u001b[0;34m\u001b[0m\u001b[0m\n\u001b[1;32m    113\u001b[0m     \u001b[0;32mdef\u001b[0m \u001b[0mforward\u001b[0m\u001b[0;34m(\u001b[0m\u001b[0mself\u001b[0m\u001b[0;34m,\u001b[0m \u001b[0minput\u001b[0m\u001b[0;34m:\u001b[0m \u001b[0mTensor\u001b[0m\u001b[0;34m)\u001b[0m \u001b[0;34m->\u001b[0m \u001b[0mTensor\u001b[0m\u001b[0;34m:\u001b[0m\u001b[0;34m\u001b[0m\u001b[0;34m\u001b[0m\u001b[0m\n\u001b[0;32m--> 114\u001b[0;31m         \u001b[0;32mreturn\u001b[0m \u001b[0mF\u001b[0m\u001b[0;34m.\u001b[0m\u001b[0mlinear\u001b[0m\u001b[0;34m(\u001b[0m\u001b[0minput\u001b[0m\u001b[0;34m,\u001b[0m \u001b[0mself\u001b[0m\u001b[0;34m.\u001b[0m\u001b[0mweight\u001b[0m\u001b[0;34m,\u001b[0m \u001b[0mself\u001b[0m\u001b[0;34m.\u001b[0m\u001b[0mbias\u001b[0m\u001b[0;34m)\u001b[0m\u001b[0;34m\u001b[0m\u001b[0;34m\u001b[0m\u001b[0m\n\u001b[0m\u001b[1;32m    115\u001b[0m \u001b[0;34m\u001b[0m\u001b[0m\n\u001b[1;32m    116\u001b[0m     \u001b[0;32mdef\u001b[0m \u001b[0mextra_repr\u001b[0m\u001b[0;34m(\u001b[0m\u001b[0mself\u001b[0m\u001b[0;34m)\u001b[0m \u001b[0;34m->\u001b[0m \u001b[0mstr\u001b[0m\u001b[0;34m:\u001b[0m\u001b[0;34m\u001b[0m\u001b[0;34m\u001b[0m\u001b[0m\n",
            "\u001b[0;31mKeyboardInterrupt\u001b[0m: "
          ]
        }
      ],
      "source": [
        "\n",
        "from transformers import pipeline, BartTokenizer, BartForConditionalGeneration\n",
        "import spacy\n",
        "\n",
        "# Initialize the summarization pipeline with the BART model\n",
        "summarizer = pipeline(\"summarization\", model=\"facebook/bart-large-cnn\")\n",
        "\n",
        "# Initialize spaCy for segmenting the text\n",
        "nlp = spacy.load(\"en_core_web_sm\")\n",
        "\n",
        "# Long article text\n",
        "long_article = translated_sentence\n",
        "\n",
        "# Process the long article with spaCy to split it into paragraphs\n",
        "doc = nlp(long_article)\n",
        "paragraphs = [str(para) for para in doc.sents]\n",
        "\n",
        "# Initialize variables for the combined summary and lengths\n",
        "combined_summary = \"\"\n",
        "original_length = len(long_article)\n",
        "summarized_length = 0\n",
        "\n",
        "# Summarize each paragraph and combine the summaries\n",
        "for paragraph in paragraphs:\n",
        "    # Summarize the paragraph without specifying max_length and min_length\n",
        "    summary = summarizer(paragraph, do_sample=True)[0][\"summary_text\"]\n",
        "    summarized_length += len(summary)\n",
        "    combined_summary += summary + \"\\n\"\n",
        "\n",
        "# Print the length of the original and summarized articles\n",
        "print(f\"Original Article Length: {original_length} characters\")\n",
        "print(f\"Summarized Article Length: {summarized_length} characters\")\n",
        "\n",
        "# Print the combined summary\n",
        "print(\"\\nCombined Summary:\")\n",
        "print(combined_summary)\n"
      ]
    },
    {
      "cell_type": "markdown",
      "metadata": {
        "id": "iklHYFUXWKTX"
      },
      "source": [
        "##**READ THE SUMMARIZED NEWS (Speak)**\n",
        "\n"
      ]
    },
    {
      "cell_type": "code",
      "execution_count": null,
      "metadata": {
        "colab": {
          "base_uri": "https://localhost:8080/"
        },
        "id": "ulbczmD-Stki",
        "outputId": "746d7f2b-16a3-4dd3-bd40-885fb6b662bb"
      },
      "outputs": [
        {
          "output_type": "stream",
          "name": "stdout",
          "text": [
            "Requirement already satisfied: gTTS in /usr/local/lib/python3.10/dist-packages (2.3.2)\n",
            "Requirement already satisfied: requests<3,>=2.27 in /usr/local/lib/python3.10/dist-packages (from gTTS) (2.31.0)\n",
            "Requirement already satisfied: click<8.2,>=7.1 in /usr/local/lib/python3.10/dist-packages (from gTTS) (8.1.7)\n",
            "Requirement already satisfied: charset-normalizer<4,>=2 in /usr/local/lib/python3.10/dist-packages (from requests<3,>=2.27->gTTS) (3.2.0)\n",
            "Requirement already satisfied: idna<4,>=2.5 in /usr/local/lib/python3.10/dist-packages (from requests<3,>=2.27->gTTS) (2.10)\n",
            "Requirement already satisfied: urllib3<3,>=1.21.1 in /usr/local/lib/python3.10/dist-packages (from requests<3,>=2.27->gTTS) (2.0.4)\n",
            "Requirement already satisfied: certifi>=2017.4.17 in /usr/local/lib/python3.10/dist-packages (from requests<3,>=2.27->gTTS) (2023.7.22)\n"
          ]
        }
      ],
      "source": [
        "!pip install gTTS"
      ]
    },
    {
      "cell_type": "markdown",
      "metadata": {
        "id": "1oaziEJQWo_1"
      },
      "source": [
        "Here we read the news file and then it create audio file in which it speak or read the content of the file."
      ]
    },
    {
      "cell_type": "code",
      "execution_count": null,
      "metadata": {
        "colab": {
          "base_uri": "https://localhost:8080/",
          "height": 391
        },
        "id": "PFcWiMohT0oC",
        "outputId": "7a30b4e7-8068-48c9-a609-bdaa62204971"
      },
      "outputs": [
        {
          "output_type": "error",
          "ename": "gTTSError",
          "evalue": "ignored",
          "traceback": [
            "\u001b[0;31m---------------------------------------------------------------------------\u001b[0m",
            "\u001b[0;31mgTTSError\u001b[0m                                 Traceback (most recent call last)",
            "\u001b[0;32m<ipython-input-39-e8554edca5ad>\u001b[0m in \u001b[0;36m<cell line: 11>\u001b[0;34m()\u001b[0m\n\u001b[1;32m      9\u001b[0m \u001b[0;34m\u001b[0m\u001b[0m\n\u001b[1;32m     10\u001b[0m \u001b[0;31m# Save the audio file (optional)\u001b[0m\u001b[0;34m\u001b[0m\u001b[0;34m\u001b[0m\u001b[0m\n\u001b[0;32m---> 11\u001b[0;31m \u001b[0mtts\u001b[0m\u001b[0;34m.\u001b[0m\u001b[0msave\u001b[0m\u001b[0;34m(\u001b[0m\u001b[0;34m\"output.mp3\"\u001b[0m\u001b[0;34m)\u001b[0m\u001b[0;34m\u001b[0m\u001b[0;34m\u001b[0m\u001b[0m\n\u001b[0m\u001b[1;32m     12\u001b[0m \u001b[0;34m\u001b[0m\u001b[0m\n\u001b[1;32m     13\u001b[0m \u001b[0;31m# Play the audio using the default audio player (platform-dependent)\u001b[0m\u001b[0;34m\u001b[0m\u001b[0;34m\u001b[0m\u001b[0m\n",
            "\u001b[0;32m/usr/local/lib/python3.10/dist-packages/gtts/tts.py\u001b[0m in \u001b[0;36msave\u001b[0;34m(self, savefile)\u001b[0m\n\u001b[1;32m    323\u001b[0m         \"\"\"\n\u001b[1;32m    324\u001b[0m         \u001b[0;32mwith\u001b[0m \u001b[0mopen\u001b[0m\u001b[0;34m(\u001b[0m\u001b[0mstr\u001b[0m\u001b[0;34m(\u001b[0m\u001b[0msavefile\u001b[0m\u001b[0;34m)\u001b[0m\u001b[0;34m,\u001b[0m \u001b[0;34m\"wb\"\u001b[0m\u001b[0;34m)\u001b[0m \u001b[0;32mas\u001b[0m \u001b[0mf\u001b[0m\u001b[0;34m:\u001b[0m\u001b[0;34m\u001b[0m\u001b[0;34m\u001b[0m\u001b[0m\n\u001b[0;32m--> 325\u001b[0;31m             \u001b[0mself\u001b[0m\u001b[0;34m.\u001b[0m\u001b[0mwrite_to_fp\u001b[0m\u001b[0;34m(\u001b[0m\u001b[0mf\u001b[0m\u001b[0;34m)\u001b[0m\u001b[0;34m\u001b[0m\u001b[0;34m\u001b[0m\u001b[0m\n\u001b[0m\u001b[1;32m    326\u001b[0m             \u001b[0mlog\u001b[0m\u001b[0;34m.\u001b[0m\u001b[0mdebug\u001b[0m\u001b[0;34m(\u001b[0m\u001b[0;34m\"Saved to %s\"\u001b[0m\u001b[0;34m,\u001b[0m \u001b[0msavefile\u001b[0m\u001b[0;34m)\u001b[0m\u001b[0;34m\u001b[0m\u001b[0;34m\u001b[0m\u001b[0m\n\u001b[1;32m    327\u001b[0m \u001b[0;34m\u001b[0m\u001b[0m\n",
            "\u001b[0;32m/usr/local/lib/python3.10/dist-packages/gtts/tts.py\u001b[0m in \u001b[0;36mwrite_to_fp\u001b[0;34m(self, fp)\u001b[0m\n\u001b[1;32m    304\u001b[0m \u001b[0;34m\u001b[0m\u001b[0m\n\u001b[1;32m    305\u001b[0m         \u001b[0;32mtry\u001b[0m\u001b[0;34m:\u001b[0m\u001b[0;34m\u001b[0m\u001b[0;34m\u001b[0m\u001b[0m\n\u001b[0;32m--> 306\u001b[0;31m             \u001b[0;32mfor\u001b[0m \u001b[0midx\u001b[0m\u001b[0;34m,\u001b[0m \u001b[0mdecoded\u001b[0m \u001b[0;32min\u001b[0m \u001b[0menumerate\u001b[0m\u001b[0;34m(\u001b[0m\u001b[0mself\u001b[0m\u001b[0;34m.\u001b[0m\u001b[0mstream\u001b[0m\u001b[0;34m(\u001b[0m\u001b[0;34m)\u001b[0m\u001b[0;34m)\u001b[0m\u001b[0;34m:\u001b[0m\u001b[0;34m\u001b[0m\u001b[0;34m\u001b[0m\u001b[0m\n\u001b[0m\u001b[1;32m    307\u001b[0m                 \u001b[0mfp\u001b[0m\u001b[0;34m.\u001b[0m\u001b[0mwrite\u001b[0m\u001b[0;34m(\u001b[0m\u001b[0mdecoded\u001b[0m\u001b[0;34m)\u001b[0m\u001b[0;34m\u001b[0m\u001b[0;34m\u001b[0m\u001b[0m\n\u001b[1;32m    308\u001b[0m                 \u001b[0mlog\u001b[0m\u001b[0;34m.\u001b[0m\u001b[0mdebug\u001b[0m\u001b[0;34m(\u001b[0m\u001b[0;34m\"part-%i written to %s\"\u001b[0m\u001b[0;34m,\u001b[0m \u001b[0midx\u001b[0m\u001b[0;34m,\u001b[0m \u001b[0mfp\u001b[0m\u001b[0;34m)\u001b[0m\u001b[0;34m\u001b[0m\u001b[0;34m\u001b[0m\u001b[0m\n",
            "\u001b[0;32m/usr/local/lib/python3.10/dist-packages/gtts/tts.py\u001b[0m in \u001b[0;36mstream\u001b[0;34m(self)\u001b[0m\n\u001b[1;32m    288\u001b[0m                         \u001b[0;31m# Request successful, good response,\u001b[0m\u001b[0;34m\u001b[0m\u001b[0;34m\u001b[0m\u001b[0m\n\u001b[1;32m    289\u001b[0m                         \u001b[0;31m# no audio stream in response\u001b[0m\u001b[0;34m\u001b[0m\u001b[0;34m\u001b[0m\u001b[0m\n\u001b[0;32m--> 290\u001b[0;31m                         \u001b[0;32mraise\u001b[0m \u001b[0mgTTSError\u001b[0m\u001b[0;34m(\u001b[0m\u001b[0mtts\u001b[0m\u001b[0;34m=\u001b[0m\u001b[0mself\u001b[0m\u001b[0;34m,\u001b[0m \u001b[0mresponse\u001b[0m\u001b[0;34m=\u001b[0m\u001b[0mr\u001b[0m\u001b[0;34m)\u001b[0m\u001b[0;34m\u001b[0m\u001b[0;34m\u001b[0m\u001b[0m\n\u001b[0m\u001b[1;32m    291\u001b[0m             \u001b[0mlog\u001b[0m\u001b[0;34m.\u001b[0m\u001b[0mdebug\u001b[0m\u001b[0;34m(\u001b[0m\u001b[0;34m\"part-%i created\"\u001b[0m\u001b[0;34m,\u001b[0m \u001b[0midx\u001b[0m\u001b[0;34m)\u001b[0m\u001b[0;34m\u001b[0m\u001b[0;34m\u001b[0m\u001b[0m\n\u001b[1;32m    292\u001b[0m \u001b[0;34m\u001b[0m\u001b[0m\n",
            "\u001b[0;31mgTTSError\u001b[0m: 200 (OK) from TTS API. Probable cause: Unknown"
          ]
        }
      ],
      "source": [
        "\n",
        "from gtts import gTTS\n",
        "import os\n",
        "\n",
        "# Text you want to convert to speech\n",
        "text = combined_summary\n",
        "\n",
        "# Create a gTTS object\n",
        "tts = gTTS(text, lang='en')\n",
        "\n",
        "# Save the audio file (optional)\n",
        "tts.save(\"output.mp3\")\n",
        "\n",
        "# Play the audio using the default audio player (platform-dependent)\n",
        "os.system(\"start output.mp3\")  # On Windows\n",
        "\n"
      ]
    },
    {
      "cell_type": "code",
      "execution_count": null,
      "metadata": {
        "id": "AQYfMJ3VUCLk"
      },
      "outputs": [],
      "source": []
    }
  ],
  "metadata": {
    "colab": {
      "provenance": [],
      "authorship_tag": "ABX9TyO3tS8+6kmTlx25mDxwXW0o",
      "include_colab_link": true
    },
    "kernelspec": {
      "display_name": "Python 3",
      "name": "python3"
    },
    "language_info": {
      "name": "python"
    }
  },
  "nbformat": 4,
  "nbformat_minor": 0
}