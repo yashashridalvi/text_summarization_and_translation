{
  "cells": [
    {
      "cell_type": "markdown",
      "metadata": {
        "id": "view-in-github",
        "colab_type": "text"
      },
      "source": [
        "<a href=\"https://colab.research.google.com/github/yashashridalvi/text_summarization_and_translation/blob/main/language_translation(project).ipynb\" target=\"_parent\"><img src=\"https://colab.research.google.com/assets/colab-badge.svg\" alt=\"Open In Colab\"/></a>"
      ]
    },
    {
      "cell_type": "markdown",
      "metadata": {
        "id": "uaXrVV8LXHhX"
      },
      "source": [
        "#**Text summarizer, language detection , language translation and also speak (or read) news text file**\n",
        "\n"
      ]
    },
    {
      "cell_type": "markdown",
      "source": [
        "News Article Summarization: The process of transforming long news articles into brief, comprehensible summaries. It helps readers quickly grasp the key information without reading the entire article."
      ],
      "metadata": {
        "id": "SKUsd_PBXcpL"
      }
    },
    {
      "cell_type": "code",
      "execution_count": null,
      "metadata": {
        "id": "Wmnngr4r8zuK"
      },
      "outputs": [],
      "source": [
        "#Firstly import python necessary library\n",
        "import pandas as pd\n",
        "import numpy as np\n",
        "from sklearn.model_selection import train_test_split\n",
        "from sklearn.metrics import classification_report\n",
        "from wordcloud import WordCloud\n",
        "import seaborn as sns\n",
        "import matplotlib.pyplot as plt"
      ]
    },
    {
      "cell_type": "code",
      "execution_count": null,
      "metadata": {
        "id": "gMXPDRhG9C-c"
      },
      "outputs": [],
      "source": [
        "# Text classification in deep learning\n",
        "# first import some libraries\n",
        "from tensorflow.keras.models import Sequential\n",
        "from tensorflow.keras.layers import Embedding,Dense,Flatten,SimpleRNN, GRU"
      ]
    },
    {
      "cell_type": "code",
      "execution_count": null,
      "metadata": {
        "id": "2pzrBRpG9mC9"
      },
      "outputs": [],
      "source": [
        "#Preprocessing\n",
        "from tensorflow.keras.preprocessing.text import Tokenizer\n",
        "from tensorflow.keras.preprocessing import sequence"
      ]
    },
    {
      "cell_type": "markdown",
      "source": [
        "Beautiful Soup simplifies web scraping by parsing HTML and XML, making it easy to extract and manipulate data from web pages in Python programs."
      ],
      "metadata": {
        "id": "j-875TCtYH53"
      }
    },
    {
      "cell_type": "code",
      "execution_count": null,
      "metadata": {
        "id": "JyhNag9HuJbn"
      },
      "outputs": [],
      "source": [
        "import requests\n",
        "from bs4 import BeautifulSoup"
      ]
    },
    {
      "cell_type": "code",
      "execution_count": null,
      "metadata": {
        "id": "5cnjccsSuEpJ"
      },
      "outputs": [],
      "source": [
        "# Retrieve page text\n",
        "url = 'https://www.npr.org/2019/07/10/740387601/university-of-texas-austin-promises-free-tuition-for-low-income-students-in-2020'\n",
        "news_page = requests.get(url).text"
      ]
    },
    {
      "cell_type": "code",
      "execution_count": null,
      "metadata": {
        "id": "j_j0aEqwuWoq"
      },
      "outputs": [],
      "source": [
        "# Turn page into BeautifulSoup object to access HTML tags\n",
        "soup = BeautifulSoup(news_page)"
      ]
    },
    {
      "cell_type": "code",
      "execution_count": null,
      "metadata": {
        "colab": {
          "base_uri": "https://localhost:8080/"
        },
        "id": "oevRUsG1ukZd",
        "outputId": "3d880d19-7d06-475f-86ac-084dd381ae62"
      },
      "outputs": [
        {
          "output_type": "stream",
          "name": "stdout",
          "text": [
            "University of Texas-Austin Promises Free Tuition For Low-Income Students In 2020\n"
          ]
        }
      ],
      "source": [
        "\n",
        "# Get headline\n",
        "headline = soup.find('h1').get_text()\n",
        "print(headline)"
      ]
    },
    {
      "cell_type": "markdown",
      "metadata": {
        "id": "1rOnG1zD3Sgc"
      },
      "source": [
        "***The main text of the article is surrounded by the \"p\" tag. This time we’ll have to find all of the \"p\" tags contained on the page since the paragraphs of the article are each contained in a \"p\" tag.***\n"
      ]
    },
    {
      "cell_type": "code",
      "execution_count": null,
      "metadata": {
        "colab": {
          "base_uri": "https://localhost:8080/"
        },
        "id": "VKUDtp5EvB8P",
        "outputId": "ea3a757c-d57c-48fb-cc1e-64fd1e14c5f9"
      },
      "outputs": [
        {
          "output_type": "execute_result",
          "data": {
            "text/plain": [
              "['From',\n",
              " 'By',\n",
              " 'Vanessa Romo',\n",
              " ',',\n",
              " 'Claire McInerny',\n",
              " 'The University of Texas-Austin announced Tuesday it is offering full tuition scholarships to in-state undergraduates whose families make $65,000 or less a year.\\n                \\n                    \\n                    Jon Herskovitz/Reuters\\n                    \\n                \\nhide caption',\n",
              " \"Four year colleges and universities have difficulty recruiting talented students from the lower end of the economic spectrum who can't afford to attend such institutions without taking on massive debt. To remedy that — at least in part — the University of Texas-Austin announced it is offering full tuition scholarships to in-state undergraduates whose families make $65,000 or less per year.\",\n",
              " \"The University of Texas System Board of Regents voted unanimously on Tuesday to establish a $160 million endowment, drawing from the state's Permanent University Fund to begin the program in the fall of 2020.\",\n",
              " '\"Recognizing both the need for improved access to higher education and the high value of a UT Austin degree, we are dedicating a distribution from the Permanent University Fund to establish an endowment that will directly benefit students and make their degrees more affordable,\" Chairman of the Board of Regents Kevin Eltife said after the vote.',\n",
              " '\"This will benefit students of our great state for years to come,\" he added.',\n",
              " 'The endowment — which includes money from oil and gas royalties earned on state-owned land in West Texas — more than doubles an existing program offering free tuition to students whose families make less than $30,000. It also expands financial assistance to middle class students whose families earn up to $125,000 a year, compared to the current $100,000.',\n",
              " \"UT-Austin is among the Texas system's more affordable universities; tuition and fees cost about $10,500. The endowment will foot the bill for those charges but not additional living expenses, including room and board, which can add another $17,000 in annual fees.\",\n",
              " 'Officials expect about 8,600 students — nearly a quarter of undergraduates, including those already enrolled — will benefit from the full tuition program and another 5,700 will gain access to additional financial support, the release said. Transfer students will also be eligible, but graduate students will not.',\n",
              " '\"There is no greater engine of social and economic mobility than a college degree, and this initiative ensures that more Texans will benefit from a high-quality UT Austin education,\" University Chancellor James Milliken said in a statement.',\n",
              " 'Cindy Muñoz, an incoming freshman from Houston, was on campus Wednesday for orientation. She was thrilled to learn of the endowment. Her mother is a single parent who has been working as a housekeeper and doing other odd jobs to make ends meet.',\n",
              " 'Until Tuesday Muñoz planned to pay for most of her college with loans. \"I knew I was going to go into student debt,\" she said, adding that she was willing to take on the loans to go to her dream school.',\n",
              " '\"I had that already in my head because my sister went to college and she had to take out loans, and she\\'s still dealing with loans today and she\\'s 38 years old,\" Muñoz said.',\n",
              " \"Once it goes into effect, the new financial aid program will apply to Muñoz and cover all of her tuition. She said she'll only need loans to pay for some of her living expenses.\",\n",
              " '\"It kind of makes me feel like I chose the right school,\" Munoz said. \"Because a school that is willing to see past your socio-economic status, look at you as a student, a person who just wants to advance their education and pursue a career, I think they look past monetary issues and they\\'re like, \\'You want to do this? Then we\\'re going to help you out.\\' \"',\n",
              " 'The school noted it landed on the $65,000 cap because the average median household income in Texas in 2017 was $59,206.',\n",
              " 'As tuition rates continue to climb and financial aid has continued to lag behind, a growing number of public and private four-year institutions are offering free tuition to students below a certain income.',\n",
              " \"In 2008, Texas A&M began offering free tuition to students whose families' income was under $60,000. Michigan established the Kalamazoo Promise, which covers four years of tuition at any public college in the state as well as 15 private colleges. Louisiana offers a more restrictive program that comes with certain caveats, including a minimum aptitude test score.\",\n",
              " 'Last year, New York launched The Excelsior Scholarship, allowing middle-class families and individuals making up to $125,000 a year to qualify for tuition-free enrollment at all CUNY and SUNY two and four-year colleges.',\n",
              " 'But some states are finding it difficult to sustain such programs. Oregon launched the Oregon Promise in 2016 but the program there had to be scaled back after a budget shortage, Pew reported.',\n",
              " \"Editor's note: NPR member station KUT's broadcast license is owned by the University of Texas. Its newsroom operates independently.\",\n",
              " 'Sponsor Message',\n",
              " 'Become an NPR sponsor']"
            ]
          },
          "metadata": {},
          "execution_count": 47
        }
      ],
      "source": [
        "# Get text from all <p> tags.\n",
        "p_tags = soup.find_all('p')\n",
        "# Get the text from each of the \"p\" tags and strip surrounding whitespace.\n",
        "p_tags_text = [tag.get_text().strip() for tag in p_tags]\n",
        "p_tags_text"
      ]
    },
    {
      "cell_type": "code",
      "execution_count": null,
      "metadata": {
        "colab": {
          "base_uri": "https://localhost:8080/"
        },
        "id": "W-d6vssQvOkB",
        "outputId": "e9309468-40f2-482b-9683-93e8ba3701e8"
      },
      "outputs": [
        {
          "output_type": "execute_result",
          "data": {
            "text/plain": [
              "[\"Four year colleges and universities have difficulty recruiting talented students from the lower end of the economic spectrum who can't afford to attend such institutions without taking on massive debt. To remedy that — at least in part — the University of Texas-Austin announced it is offering full tuition scholarships to in-state undergraduates whose families make $65,000 or less per year.\",\n",
              " \"The University of Texas System Board of Regents voted unanimously on Tuesday to establish a $160 million endowment, drawing from the state's Permanent University Fund to begin the program in the fall of 2020.\",\n",
              " '\"Recognizing both the need for improved access to higher education and the high value of a UT Austin degree, we are dedicating a distribution from the Permanent University Fund to establish an endowment that will directly benefit students and make their degrees more affordable,\" Chairman of the Board of Regents Kevin Eltife said after the vote.',\n",
              " '\"This will benefit students of our great state for years to come,\" he added.',\n",
              " 'The endowment — which includes money from oil and gas royalties earned on state-owned land in West Texas — more than doubles an existing program offering free tuition to students whose families make less than $30,000. It also expands financial assistance to middle class students whose families earn up to $125,000 a year, compared to the current $100,000.',\n",
              " \"UT-Austin is among the Texas system's more affordable universities; tuition and fees cost about $10,500. The endowment will foot the bill for those charges but not additional living expenses, including room and board, which can add another $17,000 in annual fees.\",\n",
              " 'Officials expect about 8,600 students — nearly a quarter of undergraduates, including those already enrolled — will benefit from the full tuition program and another 5,700 will gain access to additional financial support, the release said. Transfer students will also be eligible, but graduate students will not.',\n",
              " '\"There is no greater engine of social and economic mobility than a college degree, and this initiative ensures that more Texans will benefit from a high-quality UT Austin education,\" University Chancellor James Milliken said in a statement.',\n",
              " 'Cindy Muñoz, an incoming freshman from Houston, was on campus Wednesday for orientation. She was thrilled to learn of the endowment. Her mother is a single parent who has been working as a housekeeper and doing other odd jobs to make ends meet.',\n",
              " 'Until Tuesday Muñoz planned to pay for most of her college with loans. \"I knew I was going to go into student debt,\" she said, adding that she was willing to take on the loans to go to her dream school.',\n",
              " '\"I had that already in my head because my sister went to college and she had to take out loans, and she\\'s still dealing with loans today and she\\'s 38 years old,\" Muñoz said.',\n",
              " \"Once it goes into effect, the new financial aid program will apply to Muñoz and cover all of her tuition. She said she'll only need loans to pay for some of her living expenses.\",\n",
              " '\"It kind of makes me feel like I chose the right school,\" Munoz said. \"Because a school that is willing to see past your socio-economic status, look at you as a student, a person who just wants to advance their education and pursue a career, I think they look past monetary issues and they\\'re like, \\'You want to do this? Then we\\'re going to help you out.\\' \"',\n",
              " 'The school noted it landed on the $65,000 cap because the average median household income in Texas in 2017 was $59,206.',\n",
              " 'As tuition rates continue to climb and financial aid has continued to lag behind, a growing number of public and private four-year institutions are offering free tuition to students below a certain income.',\n",
              " \"In 2008, Texas A&M began offering free tuition to students whose families' income was under $60,000. Michigan established the Kalamazoo Promise, which covers four years of tuition at any public college in the state as well as 15 private colleges. Louisiana offers a more restrictive program that comes with certain caveats, including a minimum aptitude test score.\",\n",
              " 'Last year, New York launched The Excelsior Scholarship, allowing middle-class families and individuals making up to $125,000 a year to qualify for tuition-free enrollment at all CUNY and SUNY two and four-year colleges.',\n",
              " 'But some states are finding it difficult to sustain such programs. Oregon launched the Oregon Promise in 2016 but the program there had to be scaled back after a budget shortage, Pew reported.',\n",
              " \"Editor's note: NPR member station KUT's broadcast license is owned by the University of Texas. Its newsroom operates independently.\"]"
            ]
          },
          "metadata": {},
          "execution_count": 48
        }
      ],
      "source": [
        "# Filter out sentences that contain newline characters '\\n' or don't contain periods.\n",
        "sentence_list = [sentence for sentence in p_tags_text if not '\\n' in sentence]\n",
        "sentence_list = [sentence for sentence in sentence_list if '.' in sentence]\n",
        "sentence_list\n"
      ]
    },
    {
      "cell_type": "code",
      "execution_count": null,
      "metadata": {
        "id": "rf8SokM1xWLO"
      },
      "outputs": [],
      "source": [
        "# Combine list items into string.\n",
        "article = ' '.join(sentence_list)"
      ]
    },
    {
      "cell_type": "markdown",
      "metadata": {
        "id": "Yud3ISwwYjsp"
      },
      "source": [
        "##**Now we Translate the news languages**"
      ]
    },
    {
      "cell_type": "code",
      "execution_count": null,
      "metadata": {
        "colab": {
          "base_uri": "https://localhost:8080/"
        },
        "id": "eg7iIxl8IKmJ",
        "outputId": "a5960d81-042e-453c-cb79-ad615b1b051b"
      },
      "outputs": [
        {
          "output_type": "stream",
          "name": "stdout",
          "text": [
            "Requirement already satisfied: langdetect in /usr/local/lib/python3.10/dist-packages (1.0.9)\n",
            "Requirement already satisfied: six in /usr/local/lib/python3.10/dist-packages (from langdetect) (1.16.0)\n"
          ]
        }
      ],
      "source": [
        "#Langdetect is use to detect the language of document text\n",
        "!pip install langdetect"
      ]
    },
    {
      "cell_type": "code",
      "execution_count": null,
      "metadata": {
        "colab": {
          "base_uri": "https://localhost:8080/"
        },
        "id": "xzENWCtmGhc7",
        "outputId": "c92b1704-7b51-4f01-dc2a-ed5f879a3daf"
      },
      "outputs": [
        {
          "output_type": "stream",
          "name": "stdout",
          "text": [
            "[en:0.5714290721216241, so:0.4285706484072208]\n"
          ]
        }
      ],
      "source": [
        "from langdetect import detect_langs\n",
        "sentence=\"Good morning yashashri\" # sentence is in english language --> output will be en\n",
        "print(detect_langs(sentence))"
      ]
    },
    {
      "cell_type": "code",
      "execution_count": null,
      "metadata": {
        "id": "3LDlxMuOM7V_"
      },
      "outputs": [],
      "source": [
        "#To translate the languages from one language to another we use googletrans\n",
        "#!pip install googletrans==4.0.0-rc1\n"
      ]
    },
    {
      "cell_type": "code",
      "execution_count": null,
      "metadata": {
        "id": "8yzbj8AKHE7U"
      },
      "outputs": [],
      "source": [
        "#this is the google translate api\n",
        "#!pip install googletrans"
      ]
    },
    {
      "cell_type": "code",
      "execution_count": null,
      "metadata": {
        "colab": {
          "base_uri": "https://localhost:8080/"
        },
        "id": "VfjUu91JHJ_9",
        "outputId": "38d49bbb-2022-4a66-fdf6-f36742d2957e"
      },
      "outputs": [
        {
          "output_type": "stream",
          "name": "stdout",
          "text": [
            "{'af': 'afrikaans', 'sq': 'albanian', 'am': 'amharic', 'ar': 'arabic', 'hy': 'armenian', 'az': 'azerbaijani', 'eu': 'basque', 'be': 'belarusian', 'bn': 'bengali', 'bs': 'bosnian', 'bg': 'bulgarian', 'ca': 'catalan', 'ceb': 'cebuano', 'ny': 'chichewa', 'zh-cn': 'chinese (simplified)', 'zh-tw': 'chinese (traditional)', 'co': 'corsican', 'hr': 'croatian', 'cs': 'czech', 'da': 'danish', 'nl': 'dutch', 'en': 'english', 'eo': 'esperanto', 'et': 'estonian', 'tl': 'filipino', 'fi': 'finnish', 'fr': 'french', 'fy': 'frisian', 'gl': 'galician', 'ka': 'georgian', 'de': 'german', 'el': 'greek', 'gu': 'gujarati', 'ht': 'haitian creole', 'ha': 'hausa', 'haw': 'hawaiian', 'iw': 'hebrew', 'he': 'hebrew', 'hi': 'hindi', 'hmn': 'hmong', 'hu': 'hungarian', 'is': 'icelandic', 'ig': 'igbo', 'id': 'indonesian', 'ga': 'irish', 'it': 'italian', 'ja': 'japanese', 'jw': 'javanese', 'kn': 'kannada', 'kk': 'kazakh', 'km': 'khmer', 'ko': 'korean', 'ku': 'kurdish (kurmanji)', 'ky': 'kyrgyz', 'lo': 'lao', 'la': 'latin', 'lv': 'latvian', 'lt': 'lithuanian', 'lb': 'luxembourgish', 'mk': 'macedonian', 'mg': 'malagasy', 'ms': 'malay', 'ml': 'malayalam', 'mt': 'maltese', 'mi': 'maori', 'mr': 'marathi', 'mn': 'mongolian', 'my': 'myanmar (burmese)', 'ne': 'nepali', 'no': 'norwegian', 'or': 'odia', 'ps': 'pashto', 'fa': 'persian', 'pl': 'polish', 'pt': 'portuguese', 'pa': 'punjabi', 'ro': 'romanian', 'ru': 'russian', 'sm': 'samoan', 'gd': 'scots gaelic', 'sr': 'serbian', 'st': 'sesotho', 'sn': 'shona', 'sd': 'sindhi', 'si': 'sinhala', 'sk': 'slovak', 'sl': 'slovenian', 'so': 'somali', 'es': 'spanish', 'su': 'sundanese', 'sw': 'swahili', 'sv': 'swedish', 'tg': 'tajik', 'ta': 'tamil', 'te': 'telugu', 'th': 'thai', 'tr': 'turkish', 'uk': 'ukrainian', 'ur': 'urdu', 'ug': 'uyghur', 'uz': 'uzbek', 'vi': 'vietnamese', 'cy': 'welsh', 'xh': 'xhosa', 'yi': 'yiddish', 'yo': 'yoruba', 'zu': 'zulu'}\n"
          ]
        }
      ],
      "source": [
        "#Here is the list of languages and the keys that are use to call languages\n",
        "#example:- for hindi language--> we have to use'hi'\n",
        "#       :- for english language --> we have to use 'en'\n",
        "import googletrans\n",
        "print(googletrans.LANGUAGES)"
      ]
    },
    {
      "cell_type": "code",
      "execution_count": null,
      "metadata": {
        "id": "AYgGdEu4H2Q-"
      },
      "outputs": [],
      "source": [
        "from googletrans import Translator"
      ]
    },
    {
      "cell_type": "code",
      "execution_count": null,
      "metadata": {
        "id": "Syz1O_jQIol0"
      },
      "outputs": [],
      "source": [
        "translator = Translator()\n",
        "#sentence =\"hello good morning yashu\"\n",
        "#translate_to_hindi = translator.translate(sentence,dest ='hi')\n",
        "#print(translate_to_hindi)"
      ]
    },
    {
      "cell_type": "code",
      "execution_count": null,
      "metadata": {
        "colab": {
          "base_uri": "https://localhost:8080/"
        },
        "id": "-DUPlQ-V1GHM",
        "outputId": "41a9c230-8e6c-48da-c3b7-78e68b041100"
      },
      "outputs": [
        {
          "output_type": "stream",
          "name": "stdout",
          "text": [
            "Enter the target language (e.g., 'es' for Spanish): hi\n",
            "Original Sentence: Four year colleges and universities have difficulty recruiting talented students from the lower end of the economic spectrum who can't afford to attend such institutions without taking on massive debt. To remedy that — at least in part — the University of Texas-Austin announced it is offering full tuition scholarships to in-state undergraduates whose families make $65,000 or less per year. The University of Texas System Board of Regents voted unanimously on Tuesday to establish a $160 million endowment, drawing from the state's Permanent University Fund to begin the program in the fall of 2020. \"Recognizing both the need for improved access to higher education and the high value of a UT Austin degree, we are dedicating a distribution from the Permanent University Fund to establish an endowment that will directly benefit students and make their degrees more affordable,\" Chairman of the Board of Regents Kevin Eltife said after the vote. \"This will benefit students of our great state for years to come,\" he added. The endowment — which includes money from oil and gas royalties earned on state-owned land in West Texas — more than doubles an existing program offering free tuition to students whose families make less than $30,000. It also expands financial assistance to middle class students whose families earn up to $125,000 a year, compared to the current $100,000. UT-Austin is among the Texas system's more affordable universities; tuition and fees cost about $10,500. The endowment will foot the bill for those charges but not additional living expenses, including room and board, which can add another $17,000 in annual fees. Officials expect about 8,600 students — nearly a quarter of undergraduates, including those already enrolled — will benefit from the full tuition program and another 5,700 will gain access to additional financial support, the release said. Transfer students will also be eligible, but graduate students will not. \"There is no greater engine of social and economic mobility than a college degree, and this initiative ensures that more Texans will benefit from a high-quality UT Austin education,\" University Chancellor James Milliken said in a statement. Cindy Muñoz, an incoming freshman from Houston, was on campus Wednesday for orientation. She was thrilled to learn of the endowment. Her mother is a single parent who has been working as a housekeeper and doing other odd jobs to make ends meet. Until Tuesday Muñoz planned to pay for most of her college with loans. \"I knew I was going to go into student debt,\" she said, adding that she was willing to take on the loans to go to her dream school. \"I had that already in my head because my sister went to college and she had to take out loans, and she's still dealing with loans today and she's 38 years old,\" Muñoz said. Once it goes into effect, the new financial aid program will apply to Muñoz and cover all of her tuition. She said she'll only need loans to pay for some of her living expenses. \"It kind of makes me feel like I chose the right school,\" Munoz said. \"Because a school that is willing to see past your socio-economic status, look at you as a student, a person who just wants to advance their education and pursue a career, I think they look past monetary issues and they're like, 'You want to do this? Then we're going to help you out.' \" The school noted it landed on the $65,000 cap because the average median household income in Texas in 2017 was $59,206. As tuition rates continue to climb and financial aid has continued to lag behind, a growing number of public and private four-year institutions are offering free tuition to students below a certain income. In 2008, Texas A&M began offering free tuition to students whose families' income was under $60,000. Michigan established the Kalamazoo Promise, which covers four years of tuition at any public college in the state as well as 15 private colleges. Louisiana offers a more restrictive program that comes with certain caveats, including a minimum aptitude test score. Last year, New York launched The Excelsior Scholarship, allowing middle-class families and individuals making up to $125,000 a year to qualify for tuition-free enrollment at all CUNY and SUNY two and four-year colleges. But some states are finding it difficult to sustain such programs. Oregon launched the Oregon Promise in 2016 but the program there had to be scaled back after a budget shortage, Pew reported. Editor's note: NPR member station KUT's broadcast license is owned by the University of Texas. Its newsroom operates independently.\n",
            "Translated Sentence: चार साल के कॉलेजों और विश्वविद्यालयों को आर्थिक स्पेक्ट्रम के निचले छोर से प्रतिभाशाली छात्रों को भर्ती करने में कठिनाई होती है जो बड़े पैमाने पर ऋण लेने के बिना ऐसे संस्थानों में भाग नहीं ले सकते।यह उपाय करने के लिए कि-कम से कम भाग में-टेक्सास-ऑस्टिन विश्वविद्यालय ने घोषणा की कि यह राज्य के स्नातक को पूर्ण ट्यूशन छात्रवृत्ति की पेशकश कर रहा है, जिनके परिवार प्रति वर्ष $ 65,000 या उससे कम कमाते हैं।यूनिवर्सिटी ऑफ टेक्सास सिस्टम बोर्ड ऑफ रीजेंट्स ने 2020 के पतन में कार्यक्रम शुरू करने के लिए राज्य के स्थायी विश्वविद्यालय फंड से ड्राइंग, $ 160 मिलियन की बंदोबस्ती स्थापित करने के लिए मंगलवार को सर्वसम्मति से मतदान किया।एक यूटी ऑस्टिन की डिग्री का मूल्य, हम एक बंदोबस्ती स्थापित करने के लिए स्थायी विश्वविद्यालय फंड से एक वितरण समर्पित कर रहे हैं जो सीधे छात्रों को लाभान्वित करेगा और अपनी डिग्री को अधिक सस्ती बना देगा, \"बोर्ड ऑफ रीजेंट्स केविन एल्टिफ़ के अध्यक्ष केविन एल्टिफ़ ने वोट के बाद कहा।\"इससे आने वाले वर्षों के लिए हमारे महान राज्य के छात्रों को लाभ होगा,\" उन्होंने कहा।बंदोबस्ती-जिसमें पश्चिम टेक्सास में राज्य के स्वामित्व वाली भूमि पर अर्जित तेल और गैस रॉयल्टी से धन शामिल है-उन छात्रों को मुफ्त ट्यूशन की पेशकश करने वाले एक मौजूदा कार्यक्रम से अधिक, जिनके परिवार $ 30,000 से कम कमाते हैं।यह मध्यम वर्ग के छात्रों के लिए वित्तीय सहायता का विस्तार करता है, जिनके परिवार वर्तमान $ 100,000 की तुलना में प्रति वर्ष $ 125,000 तक कमाते हैं।यूटी-ऑस्टिन टेक्सास सिस्टम के अधिक किफायती विश्वविद्यालयों में से है;ट्यूशन और फीस की लागत लगभग $ 10,500 है।बंदोबस्ती उन आरोपों के लिए बिल को पैर रखेगी, लेकिन कमरे और बोर्ड सहित अतिरिक्त रहने वाले खर्चों के लिए नहीं, जो वार्षिक शुल्क में एक और $ 17,000 जोड़ सकती है।अधिकारियों को उम्मीद है कि लगभग 8,600 छात्र - लगभग एक चौथाई अंडरग्रेजुएट, जिनमें पहले से ही नामांकित हैं - पूर्ण ट्यूशन कार्यक्रम से लाभान्वित होंगे और एक और 5,700 अतिरिक्त वित्तीय सहायता तक पहुंच प्राप्त करेंगे, विज्ञप्ति में कहा गया है, विज्ञप्ति में कहा गया है।स्थानांतरण छात्र भी पात्र होंगे, लेकिन स्नातक छात्र नहीं करेंगे।विश्वविद्यालय के चांसलर जेम्स मिलिकेन ने एक बयान में कहा, \"कॉलेज की डिग्री की तुलना में सामाजिक और आर्थिक गतिशीलता का कोई बड़ा इंजन नहीं है, और यह पहल यह सुनिश्चित करती है कि अधिक टेक्सस उच्च गुणवत्ता वाले यूटी ऑस्टिन शिक्षा से लाभान्वित होंगे।\"ह्यूस्टन के एक आने वाले नए व्यक्ति सिंडी मुनोज़ ने बुधवार को ओरिएंटेशन के लिए परिसर में थे।वह बंदोबस्ती के बारे में जानने के लिए रोमांचित थी।उसकी माँ एक एकल माता -पिता हैं जो एक हाउसकीपर के रूप में काम कर रही हैं और अंत में मिलने के लिए अन्य अजीब काम कर रही हैं।मंगलवार तक मुनोज़ ने अपने अधिकांश कॉलेज के लिए ऋण के साथ भुगतान करने की योजना बनाई।\"मुझे पता था कि मैं छात्र ऋण में जाने जा रही थी,\" उसने कहा, वह अपने सपनों के स्कूल में जाने के लिए ऋण लेने के लिए तैयार थी।मुनोज़ ने कहा, \"मेरे पास पहले से ही मेरे सिर में था क्योंकि मेरी बहन कॉलेज गई थी और उसे ऋण लेना था, और वह आज भी ऋण के साथ काम कर रही है और वह 38 साल की है।\"एक बार जब यह लागू हो जाता है, तो नया वित्तीय सहायता कार्यक्रम मुनोज़ पर लागू होगा और उसके सभी ट्यूशन को कवर करेगा।उसने कहा कि उसे अपने कुछ रहने के खर्चों के लिए केवल ऋण की आवश्यकता होगी।मुनोज़ ने कहा, \"यह मुझे ऐसा लगता है कि मैंने सही स्कूल चुना।\"\"क्योंकि एक स्कूल जो आपके सामाजिक-आर्थिक स्थिति को देखने के लिए तैयार है, आपको एक छात्र के रूप में देखें, एक व्यक्ति जो सिर्फ अपनी शिक्षा को आगे बढ़ाना चाहता है और करियर बनाना चाहता है, मुझे लगता है कि वे पिछले मौद्रिक मुद्दों को देखते हैं और वे पसंद करते हैं,'आप यह करना चाहते हैं? फिर हम आपकी मदद करने जा रहे हैं।'\"स्कूल ने नोट किया कि यह $ 65,000 कैप पर उतरा क्योंकि 2017 में टेक्सास में औसत औसत घरेलू आय $ 59,206 थी।जैसे-जैसे ट्यूशन दरें चढ़ती रहती हैं और वित्तीय सहायता पीछे रहती है, सार्वजनिक और निजी चार-वर्षीय संस्थानों की बढ़ती संख्या एक निश्चित आय से कम छात्रों को मुफ्त ट्यूशन की पेशकश कर रही है।2008 में, टेक्सास ए एंड एम ने उन छात्रों को मुफ्त ट्यूशन की पेशकश शुरू की, जिनके परिवारों की आय $ 60,000 से कम थी।मिशिगन ने कलामज़ू प्रॉमिस की स्थापना की, जिसमें राज्य के किसी भी पब्लिक कॉलेज के साथ -साथ 15 निजी कॉलेजों में चार साल के ट्यूशन शामिल हैं।लुइसियाना एक अधिक प्रतिबंधात्मक कार्यक्रम प्रदान करता है जो कुछ कैवेट्स के साथ आता है, जिसमें न्यूनतम एप्टीट्यूड टेस्ट स्कोर भी शामिल है।पिछले साल, न्यूयॉर्क ने एक्सेलसियर छात्रवृत्ति शुरू की, जिससे मध्यम वर्ग के परिवारों और व्यक्तियों को सभी क्यूई और सनी दो और चार साल के कॉलेजों में ट्यूशन-मुक्त नामांकन के लिए अर्हता प्राप्त करने के लिए प्रति वर्ष $ 125,000 तक की अनुमति मिली।लेकिन कुछ राज्यों को ऐसे कार्यक्रमों को बनाए रखना मुश्किल हो रहा है।ओरेगन ने 2016 में ओरेगन प्रॉमिस लॉन्च किया था, लेकिन वहां के कार्यक्रम को बजट की कमी के बाद वापस स्केल किया जाना था, प्यू ने बताया।संपादक का नोट: एनपीआर सदस्य स्टेशन कुट का प्रसारण लाइसेंस टेक्सास विश्वविद्यालय के स्वामित्व में है।इसका न्यूज़ रूम स्वतंत्र रूप से संचालित होता है।\n"
          ]
        }
      ],
      "source": [
        "# Function to translate a sentence\n",
        "def translate_sentence(article, target_language):\n",
        "    # Initialize the Translator\n",
        "    translator = Translator()\n",
        "\n",
        "    # Translate the sentence to the target language\n",
        "    translated_sentence = translator.translate(article, dest=target_language).text\n",
        "\n",
        "    return translated_sentence\n",
        "\n",
        "# Sentence to be translated\n",
        "article = ' '.join(sentence_list)\n",
        "\n",
        "# # Prompt the user to specify the target language Target language code (e.g., 'es' for Spanish)\n",
        "target_language = input(\"Enter the target language (e.g., 'es' for Spanish): \")\n",
        "# Translate the sentence\n",
        "translated_sentence = translate_sentence(article, target_language)\n",
        "\n",
        "# Print the translated sentence\n",
        "print(f\"Original Sentence: {article}\")\n",
        "print(f\"Translated Sentence: {translated_sentence}\")\n"
      ]
    },
    {
      "cell_type": "markdown",
      "metadata": {
        "id": "QiFJUh2RX53O"
      },
      "source": [
        "#**Now to Summerize the News Article**"
      ]
    },
    {
      "cell_type": "code",
      "execution_count": null,
      "metadata": {
        "colab": {
          "base_uri": "https://localhost:8080/"
        },
        "id": "dXDxPk2FQWdP",
        "outputId": "519ac84d-4abf-4865-f1b3-71b389179559"
      },
      "outputs": [
        {
          "output_type": "stream",
          "name": "stdout",
          "text": [
            "चार साल के कॉलेजों और विश्वविद्यालयों को आर्थिक स्पेक्ट्रम के निचले छोर से प्रतिभाशाली छात्रों को भर्ती करने में कठिनाई होती है जो बड़े पैमाने पर ऋण लेने के बिना ऐसे संस्थानों में भाग नहीं ले सकते।यह उपाय करने के लिए कि-कम से कम भाग में-टेक्सास-ऑस्टिन विश्वविद्यालय ने घोषणा की कि यह राज्य के स्नातक को पूर्ण ट्यूशन छात्रवृत्ति की पेशकश कर रहा है, जिनके परिवार प्रति वर्ष $ 65,000 या उससे कम कमाते हैं।यूनिवर्सिटी ऑफ टेक्सास सिस्टम बोर्ड ऑफ रीजेंट्स ने 2020 के पतन में कार्यक्रम शुरू करने के लिए राज्य के स्थायी विश्वविद्यालय फंड से ड्राइंग, $ 160 मिलियन की बंदोबस्ती स्थापित करने के लिए मंगलवार को सर्वसम्मति से मतदान किया।एक यूटी ऑस्टिन की डिग्री का मूल्य, हम एक बंदोबस्ती स्थापित करने के लिए स्थायी विश्वविद्यालय फंड से एक वितरण समर्पित कर रहे हैं जो सीधे छात्रों को लाभान्वित करेगा और अपनी डिग्री को अधिक सस्ती बना देगा, \"बोर्ड ऑफ रीजेंट्स केविन एल्टिफ़ के अध्यक्ष केविन एल्टिफ़ ने वोट के बाद कहा।\"इससे आने वाले वर्षों के लिए हमारे महान राज्य के छात्रों को लाभ होगा,\" उन्होंने कहा।बंदोबस्ती-जिसमें पश्चिम टेक्सास में राज्य के स्वामित्व वाली भूमि पर अर्जित तेल और गैस रॉयल्टी से धन शामिल है-उन छात्रों को मुफ्त ट्यूशन की पेशकश करने वाले एक मौजूदा कार्यक्रम से अधिक, जिनके परिवार $ 30,000 से कम कमाते हैं।यह मध्यम वर्ग के छात्रों के लिए वित्तीय सहायता का विस्तार करता है, जिनके परिवार वर्तमान $ 100,000 की तुलना में प्रति वर्ष $ 125,000 तक कमाते हैं।यूटी-ऑस्टिन टेक्सास सिस्टम के अधिक किफायती विश्वविद्यालयों में से है;ट्यूशन और फीस की लागत लगभग $ 10,500 है।बंदोबस्ती उन आरोपों के लिए बिल को पैर रखेगी, लेकिन कमरे और बोर्ड सहित अतिरिक्त रहने वाले खर्चों के लिए नहीं, जो वार्षिक शुल्क में एक और $ 17,000 जोड़ सकती है।अधिकारियों को उम्मीद है कि लगभग 8,600 छात्र - लगभग एक चौथाई अंडरग्रेजुएट, जिनमें पहले से ही नामांकित हैं - पूर्ण ट्यूशन कार्यक्रम से लाभान्वित होंगे और एक और 5,700 अतिरिक्त वित्तीय सहायता तक पहुंच प्राप्त करेंगे, विज्ञप्ति में कहा गया है, विज्ञप्ति में कहा गया है।स्थानांतरण छात्र भी पात्र होंगे, लेकिन स्नातक छात्र नहीं करेंगे।विश्वविद्यालय के चांसलर जेम्स मिलिकेन ने एक बयान में कहा, \"कॉलेज की डिग्री की तुलना में सामाजिक और आर्थिक गतिशीलता का कोई बड़ा इंजन नहीं है, और यह पहल यह सुनिश्चित करती है कि अधिक टेक्सस उच्च गुणवत्ता वाले यूटी ऑस्टिन शिक्षा से लाभान्वित होंगे।\"ह्यूस्टन के एक आने वाले नए व्यक्ति सिंडी मुनोज़ ने बुधवार को ओरिएंटेशन के लिए परिसर में थे।वह बंदोबस्ती के बारे में जानने के लिए रोमांचित थी।उसकी माँ एक एकल माता -पिता हैं जो एक हाउसकीपर के रूप में काम कर रही हैं और अंत में मिलने के लिए अन्य अजीब काम कर रही हैं।मंगलवार तक मुनोज़ ने अपने अधिकांश कॉलेज के लिए ऋण के साथ भुगतान करने की योजना बनाई।\"मुझे पता था कि मैं छात्र ऋण में जाने जा रही थी,\" उसने कहा, वह अपने सपनों के स्कूल में जाने के लिए ऋण लेने के लिए तैयार थी।मुनोज़ ने कहा, \"मेरे पास पहले से ही मेरे सिर में था क्योंकि मेरी बहन कॉलेज गई थी और उसे ऋण लेना था, और वह आज भी ऋण के साथ काम कर रही है और वह 38 साल की है।\"एक बार जब यह लागू हो जाता है, तो नया वित्तीय सहायता कार्यक्रम मुनोज़ पर लागू होगा और उसके सभी ट्यूशन को कवर करेगा।उसने कहा कि उसे अपने कुछ रहने के खर्चों के लिए केवल ऋण की आवश्यकता होगी।मुनोज़ ने कहा, \"यह मुझे ऐसा लगता है कि मैंने सही स्कूल चुना।\"\"क्योंकि एक स्कूल जो आपके सामाजिक-आर्थिक स्थिति को देखने के लिए तैयार है, आपको एक छात्र के रूप में देखें, एक व्यक्ति जो सिर्फ अपनी शिक्षा को आगे बढ़ाना चाहता है और करियर बनाना चाहता है, मुझे लगता है कि वे पिछले मौद्रिक मुद्दों को देखते हैं और वे पसंद करते हैं,'आप यह करना चाहते हैं? फिर हम आपकी मदद करने जा रहे हैं।'\"स्कूल ने नोट किया कि यह $ 65,000 कैप पर उतरा क्योंकि 2017 में टेक्सास में औसत औसत घरेलू आय $ 59,206 थी।जैसे-जैसे ट्यूशन दरें चढ़ती रहती हैं और वित्तीय सहायता पीछे रहती है, सार्वजनिक और निजी चार-वर्षीय संस्थानों की बढ़ती संख्या एक निश्चित आय से कम छात्रों को मुफ्त ट्यूशन की पेशकश कर रही है।2008 में, टेक्सास ए एंड एम ने उन छात्रों को मुफ्त ट्यूशन की पेशकश शुरू की, जिनके परिवारों की आय $ 60,000 से कम थी।मिशिगन ने कलामज़ू प्रॉमिस की स्थापना की, जिसमें राज्य के किसी भी पब्लिक कॉलेज के साथ -साथ 15 निजी कॉलेजों में चार साल के ट्यूशन शामिल हैं।लुइसियाना एक अधिक प्रतिबंधात्मक कार्यक्रम प्रदान करता है जो कुछ कैवेट्स के साथ आता है, जिसमें न्यूनतम एप्टीट्यूड टेस्ट स्कोर भी शामिल है।पिछले साल, न्यूयॉर्क ने एक्सेलसियर छात्रवृत्ति शुरू की, जिससे मध्यम वर्ग के परिवारों और व्यक्तियों को सभी क्यूई और सनी दो और चार साल के कॉलेजों में ट्यूशन-मुक्त नामांकन के लिए अर्हता प्राप्त करने के लिए प्रति वर्ष $ 125,000 तक की अनुमति मिली।लेकिन कुछ राज्यों को ऐसे कार्यक्रमों को बनाए रखना मुश्किल हो रहा है।ओरेगन ने 2016 में ओरेगन प्रॉमिस लॉन्च किया था, लेकिन वहां के कार्यक्रम को बजट की कमी के बाद वापस स्केल किया जाना था, प्यू ने बताया।संपादक का नोट: एनपीआर सदस्य स्टेशन कुट का प्रसारण लाइसेंस टेक्सास विश्वविद्यालय के स्वामित्व में है।इसका न्यूज़ रूम स्वतंत्र रूप से संचालित होता है।\n"
          ]
        }
      ],
      "source": [
        "print(translated_sentence)"
      ]
    },
    {
      "cell_type": "code",
      "source": [
        "#!pip install transformers"
      ],
      "metadata": {
        "id": "Wc9Pb7U-jtgH"
      },
      "execution_count": null,
      "outputs": []
    },
    {
      "cell_type": "markdown",
      "metadata": {
        "id": "EX8arka69ulm"
      },
      "source": [
        "We split the long document into smaller sections based on a delimiter (in this example, we split by newline character '\\n')\n",
        "We use the bert-extractive-summarizer library to summarize each section.\n",
        "we can adjust the min_length and max_length parameters in the model call to control the length of each section's summary.\n",
        "Finally, we combine all section summaries to create an overall summary of the entire document."
      ]
    },
    {
      "cell_type": "code",
      "source": [
        "#!pip install bert-extractive-summarizer"
      ],
      "metadata": {
        "id": "5goMx8etthFC"
      },
      "execution_count": 89,
      "outputs": []
    },
    {
      "cell_type": "code",
      "source": [
        "from summarizer import Summarizer\n",
        "\n",
        "# Article text to be summarized (replace with your long document)\n",
        "article_text = article\n",
        "\n",
        "# Split the article into smaller sections (e.g., paragraphs)\n",
        "sections = article_text.split(\"\\n\")  # You may choose a different delimiter\n",
        "\n",
        "# Create a Summarizer object\n",
        "model = Summarizer()\n",
        "\n",
        "# Initialize an empty list to store section summaries\n",
        "section_summaries = []\n",
        "\n",
        "# Summarize each section and add it to the list\n",
        "for section in sections:\n",
        "    if section.strip():  # Skip empty sections\n",
        "        summary = model(section, min_length=50, max_length=150)  # Adjust length as needed\n",
        "        section_summaries.append(summary)\n",
        "\n",
        "# Combine section summaries into an overall summary\n",
        "overall_summary = \" \".join(section_summaries)\n",
        "\n",
        "# Print the overall summary\n",
        "print(\"Overall Summary:\")\n",
        "print(overall_summary)\n"
      ],
      "metadata": {
        "colab": {
          "base_uri": "https://localhost:8080/"
        },
        "id": "qwk-uuTlthId",
        "outputId": "496f2a41-cf20-4b30-bb05-51f96677b41d"
      },
      "execution_count": 90,
      "outputs": [
        {
          "output_type": "stream",
          "name": "stderr",
          "text": [
            "/usr/local/lib/python3.10/dist-packages/sklearn/cluster/_kmeans.py:870: FutureWarning: The default value of `n_init` will change from 10 to 'auto' in 1.4. Set the value of `n_init` explicitly to suppress the warning\n",
            "  warnings.warn(\n"
          ]
        },
        {
          "output_type": "stream",
          "name": "stdout",
          "text": [
            "Overall Summary:\n",
            "This will benefit students of our great state for years to come,\" he added. UT-Austin is among the Texas system's more affordable universities; tuition and fees cost about $10,500. Her mother is a single parent who has been working as a housekeeper and doing other odd jobs to make ends meet. She said she'll only need loans to pay for some of her living expenses. \"\n"
          ]
        }
      ]
    },
    {
      "cell_type": "markdown",
      "source": [
        "Or second method to summarize the text"
      ],
      "metadata": {
        "id": "f4rALBz2YSmV"
      }
    },
    {
      "cell_type": "code",
      "execution_count": null,
      "metadata": {
        "id": "wpKm2d-2DDdR",
        "colab": {
          "base_uri": "https://localhost:8080/"
        },
        "outputId": "91d872c8-f42b-49f1-a871-01bf8d049016"
      },
      "outputs": [
        {
          "output_type": "stream",
          "name": "stderr",
          "text": [
            "Your max_length is set to 142, but your input_length is only 34. Since this is a summarization task, where outputs shorter than the input are typically wanted, you might consider decreasing max_length manually, e.g. summarizer('...', max_length=17)\n",
            "Your max_length is set to 142, but your input_length is only 42. Since this is a summarization task, where outputs shorter than the input are typically wanted, you might consider decreasing max_length manually, e.g. summarizer('...', max_length=21)\n",
            "Your max_length is set to 142, but your input_length is only 42. Since this is a summarization task, where outputs shorter than the input are typically wanted, you might consider decreasing max_length manually, e.g. summarizer('...', max_length=21)\n",
            "Your max_length is set to 142, but your input_length is only 69. Since this is a summarization task, where outputs shorter than the input are typically wanted, you might consider decreasing max_length manually, e.g. summarizer('...', max_length=34)\n",
            "Your max_length is set to 142, but your input_length is only 19. Since this is a summarization task, where outputs shorter than the input are typically wanted, you might consider decreasing max_length manually, e.g. summarizer('...', max_length=9)\n",
            "Your max_length is set to 142, but your input_length is only 45. Since this is a summarization task, where outputs shorter than the input are typically wanted, you might consider decreasing max_length manually, e.g. summarizer('...', max_length=22)\n",
            "Your max_length is set to 142, but your input_length is only 32. Since this is a summarization task, where outputs shorter than the input are typically wanted, you might consider decreasing max_length manually, e.g. summarizer('...', max_length=16)\n",
            "Your max_length is set to 142, but your input_length is only 25. Since this is a summarization task, where outputs shorter than the input are typically wanted, you might consider decreasing max_length manually, e.g. summarizer('...', max_length=12)\n",
            "Your max_length is set to 142, but your input_length is only 35. Since this is a summarization task, where outputs shorter than the input are typically wanted, you might consider decreasing max_length manually, e.g. summarizer('...', max_length=17)\n",
            "Your max_length is set to 142, but your input_length is only 46. Since this is a summarization task, where outputs shorter than the input are typically wanted, you might consider decreasing max_length manually, e.g. summarizer('...', max_length=23)\n",
            "Your max_length is set to 142, but your input_length is only 15. Since this is a summarization task, where outputs shorter than the input are typically wanted, you might consider decreasing max_length manually, e.g. summarizer('...', max_length=7)\n",
            "Your max_length is set to 142, but your input_length is only 46. Since this is a summarization task, where outputs shorter than the input are typically wanted, you might consider decreasing max_length manually, e.g. summarizer('...', max_length=23)\n",
            "Your max_length is set to 142, but your input_length is only 20. Since this is a summarization task, where outputs shorter than the input are typically wanted, you might consider decreasing max_length manually, e.g. summarizer('...', max_length=10)\n",
            "Your max_length is set to 142, but your input_length is only 12. Since this is a summarization task, where outputs shorter than the input are typically wanted, you might consider decreasing max_length manually, e.g. summarizer('...', max_length=6)\n",
            "Your max_length is set to 142, but your input_length is only 26. Since this is a summarization task, where outputs shorter than the input are typically wanted, you might consider decreasing max_length manually, e.g. summarizer('...', max_length=13)\n",
            "Your max_length is set to 142, but your input_length is only 18. Since this is a summarization task, where outputs shorter than the input are typically wanted, you might consider decreasing max_length manually, e.g. summarizer('...', max_length=9)\n",
            "Your max_length is set to 142, but your input_length is only 34. Since this is a summarization task, where outputs shorter than the input are typically wanted, you might consider decreasing max_length manually, e.g. summarizer('...', max_length=17)\n",
            "Your max_length is set to 142, but your input_length is only 44. Since this is a summarization task, where outputs shorter than the input are typically wanted, you might consider decreasing max_length manually, e.g. summarizer('...', max_length=22)\n",
            "Your max_length is set to 142, but your input_length is only 26. Since this is a summarization task, where outputs shorter than the input are typically wanted, you might consider decreasing max_length manually, e.g. summarizer('...', max_length=13)\n",
            "Your max_length is set to 142, but your input_length is only 18. Since this is a summarization task, where outputs shorter than the input are typically wanted, you might consider decreasing max_length manually, e.g. summarizer('...', max_length=9)\n",
            "Your max_length is set to 142, but your input_length is only 20. Since this is a summarization task, where outputs shorter than the input are typically wanted, you might consider decreasing max_length manually, e.g. summarizer('...', max_length=10)\n",
            "Your max_length is set to 142, but your input_length is only 58. Since this is a summarization task, where outputs shorter than the input are typically wanted, you might consider decreasing max_length manually, e.g. summarizer('...', max_length=29)\n",
            "Your max_length is set to 142, but your input_length is only 11. Since this is a summarization task, where outputs shorter than the input are typically wanted, you might consider decreasing max_length manually, e.g. summarizer('...', max_length=5)\n",
            "Your max_length is set to 142, but your input_length is only 3. Since this is a summarization task, where outputs shorter than the input are typically wanted, you might consider decreasing max_length manually, e.g. summarizer('...', max_length=1)\n",
            "Your max_length is set to 142, but your input_length is only 30. Since this is a summarization task, where outputs shorter than the input are typically wanted, you might consider decreasing max_length manually, e.g. summarizer('...', max_length=15)\n",
            "Your max_length is set to 142, but your input_length is only 39. Since this is a summarization task, where outputs shorter than the input are typically wanted, you might consider decreasing max_length manually, e.g. summarizer('...', max_length=19)\n",
            "Your max_length is set to 142, but your input_length is only 26. Since this is a summarization task, where outputs shorter than the input are typically wanted, you might consider decreasing max_length manually, e.g. summarizer('...', max_length=13)\n",
            "Your max_length is set to 142, but your input_length is only 30. Since this is a summarization task, where outputs shorter than the input are typically wanted, you might consider decreasing max_length manually, e.g. summarizer('...', max_length=15)\n",
            "Your max_length is set to 142, but your input_length is only 22. Since this is a summarization task, where outputs shorter than the input are typically wanted, you might consider decreasing max_length manually, e.g. summarizer('...', max_length=11)\n",
            "Your max_length is set to 142, but your input_length is only 52. Since this is a summarization task, where outputs shorter than the input are typically wanted, you might consider decreasing max_length manually, e.g. summarizer('...', max_length=26)\n",
            "Your max_length is set to 142, but your input_length is only 14. Since this is a summarization task, where outputs shorter than the input are typically wanted, you might consider decreasing max_length manually, e.g. summarizer('...', max_length=7)\n",
            "Your max_length is set to 142, but your input_length is only 26. Since this is a summarization task, where outputs shorter than the input are typically wanted, you might consider decreasing max_length manually, e.g. summarizer('...', max_length=13)\n",
            "Your max_length is set to 142, but your input_length is only 22. Since this is a summarization task, where outputs shorter than the input are typically wanted, you might consider decreasing max_length manually, e.g. summarizer('...', max_length=11)\n",
            "Your max_length is set to 142, but your input_length is only 8. Since this is a summarization task, where outputs shorter than the input are typically wanted, you might consider decreasing max_length manually, e.g. summarizer('...', max_length=4)\n"
          ]
        },
        {
          "output_type": "stream",
          "name": "stdout",
          "text": [
            "Original Article Length: 4594 characters\n",
            "Summarized Article Length: 9591 characters\n",
            "\n",
            "Combined Summary:\n",
            "Four year colleges and universities have difficulty recruiting talented students from the lower end of the economic spectrum who can't afford to attend such institutions without taking on massive debt. Four year colleges have difficulty recruit talented students who can’t afford to attends such institutions. Four-year colleges and University of California, Santa Cruz, has difficulty recruiting talent.\n",
            "The University of Texas-Austin is offering full tuition scholarships to in-state undergraduates. The scholarships are available to students whose families make $65,000 or less per year. The university will offer the scholarships to students in Texas and Texas-Louisiana. Click here for more information on the scholarships.\n",
            "The University of Texas System Board of Regents voted unanimously on Tuesday to establish a $160 million endowment. The endowment will be drawn from the state's Permanent University Fund. The program will begin in the fall of 2020, the board said. The board voted unanimously to establish the endowment on Tuesday.\n",
            "Board of Regents dedicates endowment to make degrees more affordable. \"We are dedicating a distribution from the Permanent University Fund to establish an endowment that will directly benefit students,\" Regent Kevin Eltife says. \"Recognizing both the need for improved access to higher education and the high value of a UT Austin degree,\" he says.\n",
            "\"This will benefit students of our great state for years to come,\" he said. \"This will help students of all ages,\" he added. \"It is a win-win situation for all of us,\" the governor said. 'This is a great step for our state. It is a good step for the future of our state'\n",
            "The endowment includes money from oil and gas royalties earned on state-owned land in West Texas. It more than doubles an existing program offering free tuition to students whose families make less than $30,000. The endowment is expected to last at least 20 years.\n",
            "The program will expand financial assistance to middle class students whose families earn up to $125,000 a year, compared to the current $100,000. It also expands financial assistance for low-income students to $50,000, up from $30,000 now.\n",
            "UT-Austin is among the Texas system's more affordable universities. Tuition and fees cost about $10,500; tuition and fees at the University of Texas at Austin are about $9,000. UT-Austin has a reputation for being a great school to go to.\n",
            "The endowment will foot the bill for those charges but not additional living expenses, including room and board, which can add another $17,000 in annual fees. The endowment does not cover the cost of tuition, fees and other living expenses. It will pay for the endowment to cover the costs of sending students to college.\n",
            "Officials expect about 8,600 students — nearly a quarter of undergraduates, including those already enrolled — will benefit from the full tuition program. Another 5,700 will gain access to additional financial support, officials say. The program will be available to undergraduates through the end of the year.\n",
            "Transfer students will be eligible, but graduate students will not. Transfer students will also be eligible for the scholarship, but they will not be able to apply for it as graduate students. The program will start in the fall, and will be open to all students, not just those who are currently enrolled in college.\n",
            "\"There is no greater engine of social and economic mobility than a college degree,\" says University Chancellor James Milliken. \"This initiative ensures that more Texans will benefit from a high-quality UT Austin education,\" Milliken says in a statement. The program will launch in the fall.\n",
            "Cindy Muñoz, an incoming freshman from Houston, was on campus Wednesday for orientation. She was there to meet new friends and learn more about the school. She plans to attend the University of Texas at Austin next year. She is one of 18 incoming freshmen at the school this year.\n",
            "She was thrilled to learn of the endowment. She was also thrilled to find out that she would be able to stay in the U.S. She will continue to live in New York, where she lives with her husband and three children. She also plans to move to a new home in the fall.\n",
            "Her mother is a single parent who has been working as a housekeeper and doing other odd jobs to make ends meet. She has been doing odd jobs and babysitting since she was a baby to help pay for school. She is now looking for a job to help with the cost of her daughter's education.\n",
            "Until Tuesday Muñoz planned to pay for most of her college with loans. Now she plans to use her own money to go to college. \"I don't think I'm going to be able to afford it,\" she said. \"It's just not going to work out\"\n",
            "\"I knew I was going to go into student debt,\" she said. \"I was willing to take on the loans\" to go to her dream school, she adds. \"It's a dream school for me,\" she says. \"That's what I want to do with my life\"\n",
            "\"I had that already in my head because my sister went to college and she had to take out loans,\" Muñoz said. \"She's still dealing with loans today and she's 38 years old,\" she added. \"I just want to make sure that nobody else has to go through the same thing\"\n",
            "The new financial aid program will apply to Muñoz and cover all of her tuition. Once it goes into effect, the program will cover her entire tuition costs. The program will be in place for the rest of the school year, and will be rolled out over the next two years.\n",
            "She said she'll only need loans to pay for some of her living expenses. She said she will not need to take out any loans for the rest of her life. She plans to use the money to go to college and get a job and support her family.\n",
            "\"It kind of makes me feel like I chose the right school,\" Munoz said. \"It kind to make me feel Like I chose The Right School,\" he said of his choice to attend the school. \"I want to be a doctor. I want to help people. I don't want to just be a nurse,\" he added.\n",
            "\"A school that is willing to see past your socio-economic status, look at you as a student, a person who just wants to advance their education and pursue a career, I think they look past monetary issues and they're like, 'You want to do this?' \" she says.\n",
            "'If you have any problems, then we're going to help you out,' he says. 'If you need help, go to the hospital. Then we'll help you. If you have a problem, then go to a hospital' 'Then we're Going to Help You out,' the doctor adds.\n",
            "\"I'm a little bit of a weirdo,\" says former President George W. Bush. \"I'm not a bad person. I just don't know how to be one,\" Bush adds. \"There's a lot of things I don't like about myself,\" Bush says. \"But I'm a good person,\" he adds.\n",
            "The average median household income in Texas in 2017 was $59,206. The school noted it landed on the $65,000 cap because of the average median income in the state in 2017. The cap was set because the average household income was $57,000 in 2016.\n",
            "A growing number of public and private four-year institutions are offering free tuition to students below a certain income. The move is to help students cope with rising tuition rates and lack of financial aid. Some of the schools are located in California, New Jersey and New York.\n",
            "Texas A&M began offering free tuition to students whose families' income was under $60,000. In 2008, the university began offering the free tuition for students with a low-income family income. The program is now offered to all students at the school. The school is located in College Station.\n",
            "The Kalamazoo Promise covers four years of tuition at any public college in the state as well as 15 private colleges. Michigan established the Kalamazoos Promise, which covers tuition at public and private colleges, in 2010. The promise is available to students in kindergarten through 12th grade.\n",
            "Louisiana offers a more restrictive program that comes with certain caveats, including a minimum aptitude test score. Louisiana offers a stricter program that includes certain caveats. Louisiana also requires a minimum test score of at least 50 percent to be eligible for the program. The program is available through the Louisiana Department of Education.\n",
            "New York's Excelsior Scholarship allows middle-class families to qualify for tuition-free enrollment at all CUNY and SUNY two and four-year colleges. Families and individuals making up to $125,000 a year can qualify for the scholarship. New York launched the scholarship last year.\n",
            "Some states are finding it difficult to sustain such programs. But some states are also finding it hard to find the money to pay for them. The federal government has set up a fund to help pay for the programs. You can donate to the fund at: http://www.cnn.com/2013/02/28/us-federal-programs-pay-for-plans-to-make-911-a-crowd-sourcing-online.\n",
            "Oregon launched the Oregon Promise in 2016 but the program there had to be scaled back after a budget shortage, Pew reported. The program was scaled back in part because of a lack of funding, the report said. The Oregon Promise is a program that helps low-income children get a better education and health care.\n",
            "CNN.com will feature iReporter photos in a weekly Travel Snapshots gallery. Visit CNN.com/Travel each week for a new gallery of snapshots from around the world. Visit iReport.com for more travel snapshots from the world of CNN. Follow CNN Travel on Facebook and Twitter.\n",
            "The Daily Mail's newsroom operates independently of CNN.com. This article was originally published on the Daily Mail website. We are happy to clarify that this was not the case at the time of the publication of this article. The Daily Mail is not responsible for the content of any of its newsrooms.\n",
            "\n"
          ]
        }
      ],
      "source": [
        "\n",
        "from transformers import pipeline, BartTokenizer, BartForConditionalGeneration\n",
        "import spacy\n",
        "\n",
        "# Initialize the summarization pipeline with the BART model\n",
        "summarizer = pipeline(\"summarization\", model=\"facebook/bart-large-cnn\")\n",
        "\n",
        "# Initialize spaCy for segmenting the text\n",
        "nlp = spacy.load(\"en_core_web_sm\")\n",
        "\n",
        "# Long article text\n",
        "long_article = article\n",
        "\n",
        "# Process the long article with spaCy to split it into paragraphs\n",
        "doc = nlp(long_article)\n",
        "paragraphs = [str(para) for para in doc.sents]\n",
        "\n",
        "# Initialize variables for the combined summary and lengths\n",
        "combined_summary = \"\"\n",
        "original_length = len(long_article)\n",
        "summarized_length = 0\n",
        "\n",
        "# Summarize each paragraph and combine the summaries\n",
        "for paragraph in paragraphs:\n",
        "    # Summarize the paragraph without specifying max_length and min_length\n",
        "    summary = summarizer(paragraph, do_sample=True)[0][\"summary_text\"]\n",
        "    summarized_length += len(summary)\n",
        "    combined_summary += summary + \"\\n\"\n",
        "\n",
        "\n",
        "# Print the length of the original and summarized articles\n",
        "print(f\"Original Article Length: {original_length} characters\")\n",
        "print(f\"Summarized Article Length: {summarized_length} characters\")\n",
        "\n",
        "# Print the combined summary\n",
        "print(\"\\nCombined Summary:\")\n",
        "print(combined_summary)\n"
      ]
    },
    {
      "cell_type": "markdown",
      "metadata": {
        "id": "iklHYFUXWKTX"
      },
      "source": [
        "\n",
        "\n",
        "\n",
        "##**READ THE SUMMARIZED NEWS (Speak)**\n",
        "\n"
      ]
    },
    {
      "cell_type": "code",
      "execution_count": null,
      "metadata": {
        "colab": {
          "base_uri": "https://localhost:8080/"
        },
        "id": "ulbczmD-Stki",
        "outputId": "737120e7-1d91-4003-f8aa-dbc96821be29"
      },
      "outputs": [
        {
          "output_type": "stream",
          "name": "stdout",
          "text": [
            "Requirement already satisfied: gTTS in /usr/local/lib/python3.10/dist-packages (2.3.2)\n",
            "Requirement already satisfied: requests<3,>=2.27 in /usr/local/lib/python3.10/dist-packages (from gTTS) (2.31.0)\n",
            "Requirement already satisfied: click<8.2,>=7.1 in /usr/local/lib/python3.10/dist-packages (from gTTS) (8.1.7)\n",
            "Requirement already satisfied: charset-normalizer<4,>=2 in /usr/local/lib/python3.10/dist-packages (from requests<3,>=2.27->gTTS) (3.2.0)\n",
            "Requirement already satisfied: idna<4,>=2.5 in /usr/local/lib/python3.10/dist-packages (from requests<3,>=2.27->gTTS) (2.10)\n",
            "Requirement already satisfied: urllib3<3,>=1.21.1 in /usr/local/lib/python3.10/dist-packages (from requests<3,>=2.27->gTTS) (2.0.4)\n",
            "Requirement already satisfied: certifi>=2017.4.17 in /usr/local/lib/python3.10/dist-packages (from requests<3,>=2.27->gTTS) (2023.7.22)\n"
          ]
        }
      ],
      "source": [
        "!pip install gTTS"
      ]
    },
    {
      "cell_type": "markdown",
      "metadata": {
        "id": "1oaziEJQWo_1"
      },
      "source": [
        "Here we read the news file and then it create audio file in which it speak or read the content of the file."
      ]
    },
    {
      "cell_type": "code",
      "execution_count": null,
      "metadata": {
        "colab": {
          "base_uri": "https://localhost:8080/"
        },
        "id": "PFcWiMohT0oC",
        "outputId": "18b17922-30b8-46ff-9979-33105fdc5f62"
      },
      "outputs": [
        {
          "output_type": "execute_result",
          "data": {
            "text/plain": [
              "32512"
            ]
          },
          "metadata": {},
          "execution_count": 82
        }
      ],
      "source": [
        "\n",
        "from gtts import gTTS\n",
        "import os\n",
        "\n",
        "# Text you want to convert to speech\n",
        "text = combined_summary\n",
        "\n",
        "# Create a gTTS object\n",
        "tts = gTTS(text, lang='en')\n",
        "\n",
        "# Save the audio file (optional)\n",
        "tts.save(\"output.mp3\")\n",
        "\n",
        "# Play the audio using the default audio player (platform-dependent)\n",
        "os.system(\"start output.mp3\")  # On Windows\n",
        "\n"
      ]
    },
    {
      "cell_type": "code",
      "execution_count": null,
      "metadata": {
        "id": "AQYfMJ3VUCLk"
      },
      "outputs": [],
      "source": []
    }
  ],
  "metadata": {
    "colab": {
      "provenance": [],
      "authorship_tag": "ABX9TyOTa4teTD2zXfMCiGN32WDB",
      "include_colab_link": true
    },
    "kernelspec": {
      "display_name": "Python 3",
      "name": "python3"
    },
    "language_info": {
      "name": "python"
    }
  },
  "nbformat": 4,
  "nbformat_minor": 0
}